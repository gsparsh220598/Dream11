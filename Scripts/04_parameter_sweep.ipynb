{
 "cells": [
  {
   "cell_type": "code",
   "execution_count": 1,
   "metadata": {},
   "outputs": [
    {
     "name": "stderr",
     "output_type": "stream",
     "text": [
      "Failed to detect the name of this notebook, you can set it manually with the WANDB_NOTEBOOK_NAME environment variable to enable code saving.\n",
      "\u001b[34m\u001b[1mwandb\u001b[0m: Currently logged in as: \u001b[33mgsparsh\u001b[0m. Use \u001b[1m`wandb login --relogin`\u001b[0m to force relogin\n"
     ]
    },
    {
     "data": {
      "text/plain": [
       "True"
      ]
     },
     "execution_count": 1,
     "metadata": {},
     "output_type": "execute_result"
    }
   ],
   "source": [
    "import os\n",
    "import pickle\n",
    "import wandb\n",
    "import warnings\n",
    "# from utility import *\n",
    "\n",
    "environment = 'local'\n",
    "if environment == 'paperspace':\n",
    "    os.chdir('/notebooks/Scripts')\n",
    "\n",
    "import pandas as pd\n",
    "import numpy as np\n",
    "import matplotlib.pyplot as plt\n",
    "import seaborn as sns\n",
    "import scipy.stats as stats\n",
    "\n",
    "from sklearn.base import BaseEstimator, TransformerMixin\n",
    "from sklearn.impute import SimpleImputer\n",
    "from sklearn.preprocessing import OneHotEncoder, MinMaxScaler, PolynomialFeatures, SplineTransformer, KBinsDiscretizer, \\\n",
    "     StandardScaler, OrdinalEncoder, LabelEncoder\n",
    "from sklearn.feature_selection import SelectKBest, f_regression, r_regression, mutual_info_regression, SelectFromModel\n",
    "from sklearn.pipeline import Pipeline\n",
    "from sklearn.compose import ColumnTransformer\n",
    "from sklearn.metrics import mean_absolute_error, r2_score, get_scorer_names, accuracy_score, f1_score, precision_score, \\\n",
    "     confusion_matrix, recall_score\n",
    "from sklearn.model_selection import RandomizedSearchCV, train_test_split, StratifiedKFold, cross_validate, TimeSeriesSplit\n",
    "from sklearn.ensemble import IsolationForest\n",
    "from sklearn.covariance import EllipticEnvelope\n",
    "from sklearn.svm import SVC\n",
    "from sklearn.neighbors import KNeighborsRegressor, LocalOutlierFactor\n",
    "import sklearn.linear_model as lm\n",
    "from sklearn.ensemble import RandomForestClassifier, GradientBoostingClassifier, AdaBoostClassifier, ExtraTreesClassifier\n",
    "from lightgbm import LGBMClassifier\n",
    "from xgboost import XGBClassifier\n",
    "from hyperparams import *\n",
    "from util import *\n",
    "\n",
    "from imblearn.under_sampling import NearMiss, CondensedNearestNeighbour, TomekLinks, RandomUnderSampler, \\\n",
    "     EditedNearestNeighbours, RepeatedEditedNearestNeighbours, AllKNN, InstanceHardnessThreshold, NeighbourhoodCleaningRule\n",
    "# from imblearn.over_sampling import SMOTE\n",
    "from imblearn.pipeline import Pipeline as imbPipeline\n",
    "from imblearn.combine import SMOTETomek, SMOTEENN\n",
    "\n",
    "from sklearn.manifold import TSNE\n",
    "from sklearn.cluster import KMeans\n",
    "from sklearn.decomposition import PCA\n",
    "\n",
    "RANDOM_STATE = 42\n",
    "warnings.filterwarnings('ignore')\n",
    "wandb.login()"
   ]
  },
  {
   "cell_type": "code",
   "execution_count": 2,
   "metadata": {},
   "outputs": [],
   "source": [
    "# run = wandb.init(\n",
    "#   project=\"Dream11\", entity=None, job_type=\"modeling\",\n",
    "#   notes=\"Modelling the ipl2022 with XGBClassifier (5 classes) w/o feature embeddings\",\n",
    "#   tags = ['nosampling', 'xgboost', '5_classes', 'no_embeddings', 'n_iter100', 'custom_metric'],\n",
    "# )"
   ]
  },
  {
   "cell_type": "code",
   "execution_count": 3,
   "metadata": {},
   "outputs": [],
   "source": [
    "if environment == 'local':\n",
    "    train = pd.read_csv('../Inputs/ball-by-ball prediction/ipl2022.csv')\n",
    "    # train = pd.read_csv('../Inputs/ball-by-ball prediction/embfeats10K_pca_clustering.csv')\n",
    "else:\n",
    "    train = pd.read_csv('embfeats10K.csv')\n",
    "    train = pd.read_csv('main.csv')"
   ]
  },
  {
   "cell_type": "code",
   "execution_count": 4,
   "metadata": {},
   "outputs": [],
   "source": [
    "def get_train_test_split(df, target = 'target', test_size=0.1):\n",
    "    le = LabelEncoder()\n",
    "    X, y = df.drop(target, axis=1), le.fit_transform(df[target])\n",
    "    X_train, X_test, y_train, y_test = train_test_split(X, y, test_size=test_size, shuffle=True, random_state=RANDOM_STATE)\n",
    "    X_train, X_test = X_train.reset_index(drop=True), X_test.reset_index(drop=True)\n",
    "    return X_train, X_test, y_train, y_test, le.classes_\n",
    "\n",
    "def split_match_phases(df, phase='pp'):\n",
    "    # split data into power play, middle overs and death overs\n",
    "    if phase == 'pp':\n",
    "        df = df[df[\"overs\"].isin([1, 2, 3, 4, 5, 6])]\n",
    "    elif phase == 'mo':\n",
    "        df = df[df[\"overs\"].isin([7, 8, 9, 10, 11, 12, 13, 14, 15])]\n",
    "    elif phase == 'd':\n",
    "        df = df[df[\"overs\"].isin([16, 17, 18, 19, 20])]\n",
    "    df.reset_index(drop=True, inplace=True)\n",
    "    return df\n",
    "\n",
    "def get_match_phases(df, phase='pp'):\n",
    "    X_train, X_test, y_train, y_test, labels = get_train_test_split(df)\n",
    "    df_train_ = pd.concat([X_train, pd.DataFrame(y_train, columns=['target'])], axis=1)\n",
    "    df_test_ = pd.concat([X_test, pd.DataFrame(y_test, columns=['target'])], axis=1)\n",
    "    df_train, df_test = split_match_phases(df_train_, phase), split_match_phases(df_test_, phase)\n",
    "    X_train, y_train = df_train.drop('target', axis=1), df_train['target']\n",
    "    X_test, y_test = df_test.drop('target', axis=1), df_test['target']\n",
    "    return X_train, X_test, y_train, y_test, labels\n",
    "    \n",
    "\n",
    "def calc_metrics(rs, label_dict, training=True, metric=\"precision\"):\n",
    "    if training:\n",
    "        y_pred = rs.predict(X_train)\n",
    "        y_true = y_train\n",
    "    else:\n",
    "        y_pred = rs.predict(X_test)\n",
    "        y_true = y_test\n",
    "\n",
    "    preds = [label_dict[pred] for pred in y_pred]\n",
    "    true = [label_dict[pred] for pred in y_true]\n",
    "\n",
    "    if metric == \"precision\":\n",
    "        class_prec = {\n",
    "            le: ps * 100\n",
    "            for ps, le in zip(\n",
    "                precision_score(true, preds, average=None), label_dict.values()\n",
    "            )\n",
    "        }\n",
    "        return class_prec\n",
    "    elif metric == \"recall\":\n",
    "        class_rec = {\n",
    "            le: ps * 100\n",
    "            for ps, le in zip(\n",
    "                recall_score(true, preds, average=None), label_dict.values()\n",
    "            )\n",
    "        }\n",
    "        return class_rec"
   ]
  },
  {
   "cell_type": "code",
   "execution_count": null,
   "metadata": {},
   "outputs": [],
   "source": [
    "train.sort_values(by=['match_id', 'innings', 'over', 'ball'], inplace=True)"
   ]
  },
  {
   "cell_type": "code",
   "execution_count": 5,
   "metadata": {},
   "outputs": [],
   "source": [
    "# X_train, X_test, y_train, y_test, labels = get_match_phases(train, phase='pp')"
   ]
  },
  {
   "cell_type": "code",
   "execution_count": 6,
   "metadata": {},
   "outputs": [],
   "source": [
    "X_train, X_test, y_train, y_test, labels = get_train_test_split(train)"
   ]
  },
  {
   "cell_type": "code",
   "execution_count": 7,
   "metadata": {},
   "outputs": [],
   "source": [
    "cat_features = X_train.select_dtypes(include=['object']).columns.tolist()\n",
    "cat_features = cat_features #+ ['cluster']\n",
    "num_features = X_train.drop(columns=cat_features).select_dtypes(exclude=['object']).columns"
   ]
  },
  {
   "cell_type": "code",
   "execution_count": 8,
   "metadata": {},
   "outputs": [
    {
     "data": {
      "text/plain": [
       "(21,\n",
       " Index(['innings', 'overs', 'balls', 'bat_0_runs', 'bat_1_runs', 'bat_2_runs',\n",
       "        'bat_3_runs', 'bat_4_runs', 'bat_6_runs', 'bat_num_dismissals',\n",
       "        'bat_wides', 'bat_total_balls', 'bowl_0_runs', 'bowl_1_runs',\n",
       "        'bowl_2_runs', 'bowl_3_runs', 'bowl_4_runs', 'bowl_6_runs',\n",
       "        'bowl_num_dismissals', 'bowl_wides', 'bowl_total_balls'],\n",
       "       dtype='object'),\n",
       " ['venue', 'batting_team', 'bowling_team', 'striker', 'non_striker', 'bowler'])"
      ]
     },
     "execution_count": 8,
     "metadata": {},
     "output_type": "execute_result"
    }
   ],
   "source": [
    "len(num_features), num_features, cat_features"
   ]
  },
  {
   "cell_type": "code",
   "execution_count": 9,
   "metadata": {},
   "outputs": [],
   "source": [
    "# # assuming numerical features are stored in a list called \"numerical_features\"\n",
    "# num_cols = 3 # number of columns in the subplot grid\n",
    "# num_rows = (len(num_features) + num_cols - 1) // num_cols # number of rows in the subplot grid\n",
    "\n",
    "# fig, axs = plt.subplots(num_rows, num_cols, figsize=(15, 4*num_rows)) # create the subplot grid\n",
    "\n",
    "# for i, feature in enumerate(num_features):\n",
    "#     row = i // num_cols\n",
    "#     col = i % num_cols\n",
    "#     sns.histplot(data=X, x=feature, hue='target', kde=True, ax=axs[row, col]) # plot the histogram\n",
    "\n",
    "# plt.tight_layout() # adjust spacing between subplots\n",
    "# plt.show()\n"
   ]
  },
  {
   "cell_type": "code",
   "execution_count": 10,
   "metadata": {},
   "outputs": [],
   "source": [
    "# # subset = ['bat_0_runs', 'bat_1_runs', 'bat_2_runs', 'bat_3_runs', 'bat_4_runs', 'bat_6_runs']\n",
    "\n",
    "# # Create a pairplot for the subset\n",
    "# sns.pairplot(X)\n",
    "# plt.show()"
   ]
  },
  {
   "cell_type": "code",
   "execution_count": 84,
   "metadata": {},
   "outputs": [],
   "source": [
    "# # create subplots for each numerical feature\n",
    "# fig, axes = plt.subplots(nrows=3, ncols=2, figsize=(15, 15))\n",
    "\n",
    "# # loop through each subplot and create a boxplot of the target variable vs. the numerical feature\n",
    "# for i, ax in enumerate(axes.flatten()):\n",
    "#     sns.boxplot(x='target', y=num_features[i], data=X, ax=ax)\n",
    "#     ax.set_title(f'{num_features[i]} vs. Target')\n",
    "    \n",
    "# # display the plot\n",
    "# plt.show()"
   ]
  },
  {
   "cell_type": "code",
   "execution_count": 85,
   "metadata": {},
   "outputs": [],
   "source": [
    "# # create subplots for each numerical feature\n",
    "# fig, axes = plt.subplots(nrows=3, ncols=2, figsize=(15, 15))\n",
    "\n",
    "# # loop through each subplot and create a scatterplot of the numerical feature vs. the target variable\n",
    "# for i, ax in enumerate(axes.flatten()):\n",
    "#     sns.scatterplot(x=num_features[i], y='target', data=X, ax=ax)\n",
    "#     ax.set_title(f'{num_features[i]} vs. Target')\n",
    "    \n",
    "# # display the plot\n",
    "# plt.show()\n",
    "\n"
   ]
  },
  {
   "cell_type": "code",
   "execution_count": 86,
   "metadata": {},
   "outputs": [],
   "source": [
    "# X = preprocessor.fit_transform(train.drop('target', axis=1))"
   ]
  },
  {
   "cell_type": "code",
   "execution_count": 87,
   "metadata": {},
   "outputs": [],
   "source": [
    "# X.shape"
   ]
  },
  {
   "cell_type": "code",
   "execution_count": 88,
   "metadata": {},
   "outputs": [],
   "source": [
    "# model = TSNE(n_components=2, random_state=RANDOM_STATE, perplexity=500)\n",
    "# tsne = model.fit_transform(X)"
   ]
  },
  {
   "cell_type": "code",
   "execution_count": 89,
   "metadata": {},
   "outputs": [],
   "source": [
    "# # pca = PCA(n_components=0.50)\n",
    "# # pca.fit(X)\n",
    "# # pc = pca.transform(X)\n",
    "# kmeans = KMeans(n_clusters=8, algorithm='lloyd', random_state=RANDOM_STATE)\n",
    "# kmeans.fit(X)\n",
    "\n",
    "# fr = pd.DataFrame({'tsne1': tsne[:,0], 'tsne2': tsne[:, 1], 'cluster': kmeans.labels_})\n",
    "# sns.lmplot(data=fr, x='tsne1', y='tsne2', hue='cluster', fit_reg=False)\n",
    "# # print(np.sum(pca.explained_variance_ratio_))"
   ]
  },
  {
   "cell_type": "code",
   "execution_count": 90,
   "metadata": {},
   "outputs": [],
   "source": [
    "#add cluster to train\n",
    "# X = pd.DataFrame(X, columns=[f'pca_{i}' for i in range(X.shape[1])])"
   ]
  },
  {
   "cell_type": "code",
   "execution_count": 91,
   "metadata": {},
   "outputs": [],
   "source": [
    "#add cluster to train\n",
    "# X['cluster'] = kmeans.labels_"
   ]
  },
  {
   "cell_type": "code",
   "execution_count": 92,
   "metadata": {},
   "outputs": [],
   "source": [
    "# X['target'] = train.target"
   ]
  },
  {
   "cell_type": "code",
   "execution_count": 93,
   "metadata": {},
   "outputs": [],
   "source": [
    "# X.to_csv('../Inputs/ball-by-ball prediction/embfeats10K_pca_clustering.csv', index=False)"
   ]
  },
  {
   "cell_type": "code",
   "execution_count": 11,
   "metadata": {},
   "outputs": [
    {
     "data": {
      "text/plain": [
       "(['venue', 'batting_team', 'bowling_team', 'striker', 'non_striker', 'bowler'],\n",
       " Index(['innings', 'overs', 'balls', 'bat_0_runs', 'bat_1_runs', 'bat_2_runs',\n",
       "        'bat_3_runs', 'bat_4_runs', 'bat_6_runs', 'bat_num_dismissals',\n",
       "        'bat_wides', 'bat_total_balls', 'bowl_0_runs', 'bowl_1_runs',\n",
       "        'bowl_2_runs', 'bowl_3_runs', 'bowl_4_runs', 'bowl_6_runs',\n",
       "        'bowl_num_dismissals', 'bowl_wides', 'bowl_total_balls'],\n",
       "       dtype='object'))"
      ]
     },
     "execution_count": 11,
     "metadata": {},
     "output_type": "execute_result"
    }
   ],
   "source": [
    "cat_features, num_features"
   ]
  },
  {
   "cell_type": "code",
   "execution_count": 21,
   "metadata": {},
   "outputs": [],
   "source": [
    "numeric_transformer = imbPipeline([\n",
    "      (\"poly\", PolynomialFeatures(degree=2)),\n",
    "      # (\"splines\", SplineTransformer()),\n",
    "      # (\"log\", LogTransformer()),\n",
    "      (\"scaler\", MinMaxScaler()),\n",
    "      # (\"bins\", KBinsDiscretizer(encode=\"ordinal\")),\n",
    "      # (\"feats\", SelectFromModel(lm.Lasso(random_state=RANDOM_STATE), threshold='median'))\n",
    "      # ('pca', PCA(n_components=0.94))\n",
    "])\n",
    "\n",
    "categorical_transformer = imbPipeline([\n",
    "      ('encoder', OrdinalEncoder(handle_unknown='use_encoded_value', unknown_value=-1)),\n",
    "      # ('encoder', OneHotEncoder(handle_unknown='ignore')),\n",
    "])"
   ]
  },
  {
   "cell_type": "code",
   "execution_count": 22,
   "metadata": {},
   "outputs": [],
   "source": [
    "preprocessor = ColumnTransformer(\n",
    "    transformers=[\n",
    "        # ('new_feats', CustomFeatureTransformer(), num_features),\n",
    "        ('num', numeric_transformer, num_features),\n",
    "        ('cat', categorical_transformer, cat_features)\n",
    "    ]\n",
    ")"
   ]
  },
  {
   "cell_type": "code",
   "execution_count": 23,
   "metadata": {},
   "outputs": [
    {
     "data": {
      "text/plain": [
       "dict_keys(['memory', 'steps', 'verbose', 'prep', 'undersample', 'clf', 'prep__n_jobs', 'prep__remainder', 'prep__sparse_threshold', 'prep__transformer_weights', 'prep__transformers', 'prep__verbose', 'prep__verbose_feature_names_out', 'prep__num', 'prep__cat', 'prep__num__memory', 'prep__num__steps', 'prep__num__verbose', 'prep__num__poly', 'prep__num__scaler', 'prep__num__poly__degree', 'prep__num__poly__include_bias', 'prep__num__poly__interaction_only', 'prep__num__poly__order', 'prep__num__scaler__clip', 'prep__num__scaler__copy', 'prep__num__scaler__feature_range', 'prep__cat__memory', 'prep__cat__steps', 'prep__cat__verbose', 'prep__cat__encoder', 'prep__cat__encoder__categories', 'prep__cat__encoder__dtype', 'prep__cat__encoder__encoded_missing_value', 'prep__cat__encoder__handle_unknown', 'prep__cat__encoder__unknown_value', 'clf__objective', 'clf__use_label_encoder', 'clf__base_score', 'clf__booster', 'clf__callbacks', 'clf__colsample_bylevel', 'clf__colsample_bynode', 'clf__colsample_bytree', 'clf__early_stopping_rounds', 'clf__enable_categorical', 'clf__eval_metric', 'clf__feature_types', 'clf__gamma', 'clf__gpu_id', 'clf__grow_policy', 'clf__importance_type', 'clf__interaction_constraints', 'clf__learning_rate', 'clf__max_bin', 'clf__max_cat_threshold', 'clf__max_cat_to_onehot', 'clf__max_delta_step', 'clf__max_depth', 'clf__max_leaves', 'clf__min_child_weight', 'clf__missing', 'clf__monotone_constraints', 'clf__n_estimators', 'clf__n_jobs', 'clf__num_parallel_tree', 'clf__predictor', 'clf__random_state', 'clf__reg_alpha', 'clf__reg_lambda', 'clf__sampling_method', 'clf__scale_pos_weight', 'clf__subsample', 'clf__tree_method', 'clf__validate_parameters', 'clf__verbosity'])"
      ]
     },
     "execution_count": 23,
     "metadata": {},
     "output_type": "execute_result"
    }
   ],
   "source": [
    "#Randomized Search CV - LGBM\n",
    "pipe = imbPipeline([\n",
    "    ('prep', preprocessor),\n",
    "    ('undersample', get_sampler(algo=\"none\")),\n",
    "    ('clf', XGBClassifier(booster='gbtree', tree_method='hist', #metric='multiclass', eval_metric='mlogloss',\\\n",
    "                        #    multi_strategy='multi_output_tree', \n",
    "                           random_state=RANDOM_STATE))\n",
    "])\n",
    "pipe.get_params().keys()"
   ]
  },
  {
   "cell_type": "code",
   "execution_count": 24,
   "metadata": {},
   "outputs": [
    {
     "data": {
      "text/plain": [
       "{0: 'four', 1: 'norun', 2: 'run', 3: 'six', 4: 'wicket'}"
      ]
     },
     "execution_count": 24,
     "metadata": {},
     "output_type": "execute_result"
    }
   ],
   "source": [
    "label_dict = {i:labels[i] for i in range(len(labels))}\n",
    "label_dict"
   ]
  },
  {
   "cell_type": "code",
   "execution_count": 25,
   "metadata": {},
   "outputs": [],
   "source": [
    "important_classes = [0,3,4]\n",
    "custom_f1 = get_custom_scorer(important_classes)"
   ]
  },
  {
   "cell_type": "code",
   "execution_count": 26,
   "metadata": {},
   "outputs": [
    {
     "data": {
      "text/html": [
       "<style>#sk-container-id-2 {color: black;background-color: white;}#sk-container-id-2 pre{padding: 0;}#sk-container-id-2 div.sk-toggleable {background-color: white;}#sk-container-id-2 label.sk-toggleable__label {cursor: pointer;display: block;width: 100%;margin-bottom: 0;padding: 0.3em;box-sizing: border-box;text-align: center;}#sk-container-id-2 label.sk-toggleable__label-arrow:before {content: \"▸\";float: left;margin-right: 0.25em;color: #696969;}#sk-container-id-2 label.sk-toggleable__label-arrow:hover:before {color: black;}#sk-container-id-2 div.sk-estimator:hover label.sk-toggleable__label-arrow:before {color: black;}#sk-container-id-2 div.sk-toggleable__content {max-height: 0;max-width: 0;overflow: hidden;text-align: left;background-color: #f0f8ff;}#sk-container-id-2 div.sk-toggleable__content pre {margin: 0.2em;color: black;border-radius: 0.25em;background-color: #f0f8ff;}#sk-container-id-2 input.sk-toggleable__control:checked~div.sk-toggleable__content {max-height: 200px;max-width: 100%;overflow: auto;}#sk-container-id-2 input.sk-toggleable__control:checked~label.sk-toggleable__label-arrow:before {content: \"▾\";}#sk-container-id-2 div.sk-estimator input.sk-toggleable__control:checked~label.sk-toggleable__label {background-color: #d4ebff;}#sk-container-id-2 div.sk-label input.sk-toggleable__control:checked~label.sk-toggleable__label {background-color: #d4ebff;}#sk-container-id-2 input.sk-hidden--visually {border: 0;clip: rect(1px 1px 1px 1px);clip: rect(1px, 1px, 1px, 1px);height: 1px;margin: -1px;overflow: hidden;padding: 0;position: absolute;width: 1px;}#sk-container-id-2 div.sk-estimator {font-family: monospace;background-color: #f0f8ff;border: 1px dotted black;border-radius: 0.25em;box-sizing: border-box;margin-bottom: 0.5em;}#sk-container-id-2 div.sk-estimator:hover {background-color: #d4ebff;}#sk-container-id-2 div.sk-parallel-item::after {content: \"\";width: 100%;border-bottom: 1px solid gray;flex-grow: 1;}#sk-container-id-2 div.sk-label:hover label.sk-toggleable__label {background-color: #d4ebff;}#sk-container-id-2 div.sk-serial::before {content: \"\";position: absolute;border-left: 1px solid gray;box-sizing: border-box;top: 0;bottom: 0;left: 50%;z-index: 0;}#sk-container-id-2 div.sk-serial {display: flex;flex-direction: column;align-items: center;background-color: white;padding-right: 0.2em;padding-left: 0.2em;position: relative;}#sk-container-id-2 div.sk-item {position: relative;z-index: 1;}#sk-container-id-2 div.sk-parallel {display: flex;align-items: stretch;justify-content: center;background-color: white;position: relative;}#sk-container-id-2 div.sk-item::before, #sk-container-id-2 div.sk-parallel-item::before {content: \"\";position: absolute;border-left: 1px solid gray;box-sizing: border-box;top: 0;bottom: 0;left: 50%;z-index: -1;}#sk-container-id-2 div.sk-parallel-item {display: flex;flex-direction: column;z-index: 1;position: relative;background-color: white;}#sk-container-id-2 div.sk-parallel-item:first-child::after {align-self: flex-end;width: 50%;}#sk-container-id-2 div.sk-parallel-item:last-child::after {align-self: flex-start;width: 50%;}#sk-container-id-2 div.sk-parallel-item:only-child::after {width: 0;}#sk-container-id-2 div.sk-dashed-wrapped {border: 1px dashed gray;margin: 0 0.4em 0.5em 0.4em;box-sizing: border-box;padding-bottom: 0.4em;background-color: white;}#sk-container-id-2 div.sk-label label {font-family: monospace;font-weight: bold;display: inline-block;line-height: 1.2em;}#sk-container-id-2 div.sk-label-container {text-align: center;}#sk-container-id-2 div.sk-container {/* jupyter's `normalize.less` sets `[hidden] { display: none; }` but bootstrap.min.css set `[hidden] { display: none !important; }` so we also need the `!important` here to be able to override the default hidden behavior on the sphinx rendered scikit-learn.org. See: https://github.com/scikit-learn/scikit-learn/issues/21755 */display: inline-block !important;position: relative;}#sk-container-id-2 div.sk-text-repr-fallback {display: none;}</style><div id=\"sk-container-id-2\" class=\"sk-top-container\"><div class=\"sk-text-repr-fallback\"><pre>RandomizedSearchCV(cv=&lt;generator object _BaseKFold.split at 0x129b95fc0&gt;,\n",
       "                   estimator=Pipeline(steps=[(&#x27;prep&#x27;,\n",
       "                                              ColumnTransformer(transformers=[(&#x27;num&#x27;,\n",
       "                                                                               Pipeline(steps=[(&#x27;poly&#x27;,\n",
       "                                                                                                PolynomialFeatures()),\n",
       "                                                                                               (&#x27;scaler&#x27;,\n",
       "                                                                                                MinMaxScaler())]),\n",
       "                                                                               Index([&#x27;innings&#x27;, &#x27;overs&#x27;, &#x27;balls&#x27;, &#x27;bat_0_runs&#x27;, &#x27;bat_1_runs&#x27;, &#x27;bat_2_runs&#x27;,\n",
       "       &#x27;bat_3_runs&#x27;, &#x27;bat_4_runs&#x27;, &#x27;bat_6_runs&#x27;, &#x27;bat_num_dismissals&#x27;,\n",
       "       &#x27;b...\n",
       "       0.5283, 0.549 , 0.5693, 0.59  , 0.6104, 0.631 , 0.6514, 0.672 ,\n",
       "       0.6924, 0.713 , 0.7334, 0.754 , 0.7744, 0.795 , 0.8154, 0.836 ,\n",
       "       0.8564, 0.877 , 0.8975, 0.918 , 0.9385, 0.959 , 0.9795, 1.    ],\n",
       "      dtype=float16),\n",
       "                                        &#x27;prep__num__poly__degree&#x27;: array([1, 2, 3], dtype=int16),\n",
       "                                        &#x27;prep__num__poly__include_bias&#x27;: [True,\n",
       "                                                                          False],\n",
       "                                        &#x27;prep__num__poly__interaction_only&#x27;: [True]},\n",
       "                   random_state=42, scoring=make_scorer(custom_f1))</pre><b>In a Jupyter environment, please rerun this cell to show the HTML representation or trust the notebook. <br />On GitHub, the HTML representation is unable to render, please try loading this page with nbviewer.org.</b></div><div class=\"sk-container\" hidden><div class=\"sk-item sk-dashed-wrapped\"><div class=\"sk-label-container\"><div class=\"sk-label sk-toggleable\"><input class=\"sk-toggleable__control sk-hidden--visually\" id=\"sk-estimator-id-11\" type=\"checkbox\" ><label for=\"sk-estimator-id-11\" class=\"sk-toggleable__label sk-toggleable__label-arrow\">RandomizedSearchCV</label><div class=\"sk-toggleable__content\"><pre>RandomizedSearchCV(cv=&lt;generator object _BaseKFold.split at 0x129b95fc0&gt;,\n",
       "                   estimator=Pipeline(steps=[(&#x27;prep&#x27;,\n",
       "                                              ColumnTransformer(transformers=[(&#x27;num&#x27;,\n",
       "                                                                               Pipeline(steps=[(&#x27;poly&#x27;,\n",
       "                                                                                                PolynomialFeatures()),\n",
       "                                                                                               (&#x27;scaler&#x27;,\n",
       "                                                                                                MinMaxScaler())]),\n",
       "                                                                               Index([&#x27;innings&#x27;, &#x27;overs&#x27;, &#x27;balls&#x27;, &#x27;bat_0_runs&#x27;, &#x27;bat_1_runs&#x27;, &#x27;bat_2_runs&#x27;,\n",
       "       &#x27;bat_3_runs&#x27;, &#x27;bat_4_runs&#x27;, &#x27;bat_6_runs&#x27;, &#x27;bat_num_dismissals&#x27;,\n",
       "       &#x27;b...\n",
       "       0.5283, 0.549 , 0.5693, 0.59  , 0.6104, 0.631 , 0.6514, 0.672 ,\n",
       "       0.6924, 0.713 , 0.7334, 0.754 , 0.7744, 0.795 , 0.8154, 0.836 ,\n",
       "       0.8564, 0.877 , 0.8975, 0.918 , 0.9385, 0.959 , 0.9795, 1.    ],\n",
       "      dtype=float16),\n",
       "                                        &#x27;prep__num__poly__degree&#x27;: array([1, 2, 3], dtype=int16),\n",
       "                                        &#x27;prep__num__poly__include_bias&#x27;: [True,\n",
       "                                                                          False],\n",
       "                                        &#x27;prep__num__poly__interaction_only&#x27;: [True]},\n",
       "                   random_state=42, scoring=make_scorer(custom_f1))</pre></div></div></div><div class=\"sk-parallel\"><div class=\"sk-parallel-item\"><div class=\"sk-item\"><div class=\"sk-label-container\"><div class=\"sk-label sk-toggleable\"><input class=\"sk-toggleable__control sk-hidden--visually\" id=\"sk-estimator-id-12\" type=\"checkbox\" ><label for=\"sk-estimator-id-12\" class=\"sk-toggleable__label sk-toggleable__label-arrow\">estimator: Pipeline</label><div class=\"sk-toggleable__content\"><pre>Pipeline(steps=[(&#x27;prep&#x27;,\n",
       "                 ColumnTransformer(transformers=[(&#x27;num&#x27;,\n",
       "                                                  Pipeline(steps=[(&#x27;poly&#x27;,\n",
       "                                                                   PolynomialFeatures()),\n",
       "                                                                  (&#x27;scaler&#x27;,\n",
       "                                                                   MinMaxScaler())]),\n",
       "                                                  Index([&#x27;innings&#x27;, &#x27;overs&#x27;, &#x27;balls&#x27;, &#x27;bat_0_runs&#x27;, &#x27;bat_1_runs&#x27;, &#x27;bat_2_runs&#x27;,\n",
       "       &#x27;bat_3_runs&#x27;, &#x27;bat_4_runs&#x27;, &#x27;bat_6_runs&#x27;, &#x27;bat_num_dismissals&#x27;,\n",
       "       &#x27;bat_wides&#x27;, &#x27;bat_total_balls&#x27;, &#x27;bowl_0_runs&#x27;, &#x27;bowl_1_runs&#x27;,\n",
       "       &#x27;bowl_2_runs&#x27;, &#x27;bowl_3_r...\n",
       "                               feature_types=None, gamma=None, gpu_id=None,\n",
       "                               grow_policy=None, importance_type=None,\n",
       "                               interaction_constraints=None, learning_rate=None,\n",
       "                               max_bin=None, max_cat_threshold=None,\n",
       "                               max_cat_to_onehot=None, max_delta_step=None,\n",
       "                               max_depth=None, max_leaves=None,\n",
       "                               min_child_weight=None, missing=nan,\n",
       "                               monotone_constraints=None, n_estimators=100,\n",
       "                               n_jobs=None, num_parallel_tree=None,\n",
       "                               predictor=None, random_state=42, ...))])</pre></div></div></div><div class=\"sk-serial\"><div class=\"sk-item\"><div class=\"sk-serial\"><div class=\"sk-item sk-dashed-wrapped\"><div class=\"sk-label-container\"><div class=\"sk-label sk-toggleable\"><input class=\"sk-toggleable__control sk-hidden--visually\" id=\"sk-estimator-id-13\" type=\"checkbox\" ><label for=\"sk-estimator-id-13\" class=\"sk-toggleable__label sk-toggleable__label-arrow\">prep: ColumnTransformer</label><div class=\"sk-toggleable__content\"><pre>ColumnTransformer(transformers=[(&#x27;num&#x27;,\n",
       "                                 Pipeline(steps=[(&#x27;poly&#x27;, PolynomialFeatures()),\n",
       "                                                 (&#x27;scaler&#x27;, MinMaxScaler())]),\n",
       "                                 Index([&#x27;innings&#x27;, &#x27;overs&#x27;, &#x27;balls&#x27;, &#x27;bat_0_runs&#x27;, &#x27;bat_1_runs&#x27;, &#x27;bat_2_runs&#x27;,\n",
       "       &#x27;bat_3_runs&#x27;, &#x27;bat_4_runs&#x27;, &#x27;bat_6_runs&#x27;, &#x27;bat_num_dismissals&#x27;,\n",
       "       &#x27;bat_wides&#x27;, &#x27;bat_total_balls&#x27;, &#x27;bowl_0_runs&#x27;, &#x27;bowl_1_runs&#x27;,\n",
       "       &#x27;bowl_2_runs&#x27;, &#x27;bowl_3_runs&#x27;, &#x27;bowl_4_runs&#x27;, &#x27;bowl_6_runs&#x27;,\n",
       "       &#x27;bowl_num_dismissals&#x27;, &#x27;bowl_wides&#x27;, &#x27;bowl_total_balls&#x27;],\n",
       "      dtype=&#x27;object&#x27;)),\n",
       "                                (&#x27;cat&#x27;,\n",
       "                                 Pipeline(steps=[(&#x27;encoder&#x27;,\n",
       "                                                  OrdinalEncoder(handle_unknown=&#x27;use_encoded_value&#x27;,\n",
       "                                                                 unknown_value=-1))]),\n",
       "                                 [&#x27;venue&#x27;, &#x27;batting_team&#x27;, &#x27;bowling_team&#x27;,\n",
       "                                  &#x27;striker&#x27;, &#x27;non_striker&#x27;, &#x27;bowler&#x27;])])</pre></div></div></div><div class=\"sk-parallel\"><div class=\"sk-parallel-item\"><div class=\"sk-item\"><div class=\"sk-label-container\"><div class=\"sk-label sk-toggleable\"><input class=\"sk-toggleable__control sk-hidden--visually\" id=\"sk-estimator-id-14\" type=\"checkbox\" ><label for=\"sk-estimator-id-14\" class=\"sk-toggleable__label sk-toggleable__label-arrow\">num</label><div class=\"sk-toggleable__content\"><pre>Index([&#x27;innings&#x27;, &#x27;overs&#x27;, &#x27;balls&#x27;, &#x27;bat_0_runs&#x27;, &#x27;bat_1_runs&#x27;, &#x27;bat_2_runs&#x27;,\n",
       "       &#x27;bat_3_runs&#x27;, &#x27;bat_4_runs&#x27;, &#x27;bat_6_runs&#x27;, &#x27;bat_num_dismissals&#x27;,\n",
       "       &#x27;bat_wides&#x27;, &#x27;bat_total_balls&#x27;, &#x27;bowl_0_runs&#x27;, &#x27;bowl_1_runs&#x27;,\n",
       "       &#x27;bowl_2_runs&#x27;, &#x27;bowl_3_runs&#x27;, &#x27;bowl_4_runs&#x27;, &#x27;bowl_6_runs&#x27;,\n",
       "       &#x27;bowl_num_dismissals&#x27;, &#x27;bowl_wides&#x27;, &#x27;bowl_total_balls&#x27;],\n",
       "      dtype=&#x27;object&#x27;)</pre></div></div></div><div class=\"sk-serial\"><div class=\"sk-item\"><div class=\"sk-serial\"><div class=\"sk-item\"><div class=\"sk-estimator sk-toggleable\"><input class=\"sk-toggleable__control sk-hidden--visually\" id=\"sk-estimator-id-15\" type=\"checkbox\" ><label for=\"sk-estimator-id-15\" class=\"sk-toggleable__label sk-toggleable__label-arrow\">PolynomialFeatures</label><div class=\"sk-toggleable__content\"><pre>PolynomialFeatures()</pre></div></div></div><div class=\"sk-item\"><div class=\"sk-estimator sk-toggleable\"><input class=\"sk-toggleable__control sk-hidden--visually\" id=\"sk-estimator-id-16\" type=\"checkbox\" ><label for=\"sk-estimator-id-16\" class=\"sk-toggleable__label sk-toggleable__label-arrow\">MinMaxScaler</label><div class=\"sk-toggleable__content\"><pre>MinMaxScaler()</pre></div></div></div></div></div></div></div></div><div class=\"sk-parallel-item\"><div class=\"sk-item\"><div class=\"sk-label-container\"><div class=\"sk-label sk-toggleable\"><input class=\"sk-toggleable__control sk-hidden--visually\" id=\"sk-estimator-id-17\" type=\"checkbox\" ><label for=\"sk-estimator-id-17\" class=\"sk-toggleable__label sk-toggleable__label-arrow\">cat</label><div class=\"sk-toggleable__content\"><pre>[&#x27;venue&#x27;, &#x27;batting_team&#x27;, &#x27;bowling_team&#x27;, &#x27;striker&#x27;, &#x27;non_striker&#x27;, &#x27;bowler&#x27;]</pre></div></div></div><div class=\"sk-serial\"><div class=\"sk-item\"><div class=\"sk-serial\"><div class=\"sk-item\"><div class=\"sk-estimator sk-toggleable\"><input class=\"sk-toggleable__control sk-hidden--visually\" id=\"sk-estimator-id-18\" type=\"checkbox\" ><label for=\"sk-estimator-id-18\" class=\"sk-toggleable__label sk-toggleable__label-arrow\">OrdinalEncoder</label><div class=\"sk-toggleable__content\"><pre>OrdinalEncoder(handle_unknown=&#x27;use_encoded_value&#x27;, unknown_value=-1)</pre></div></div></div></div></div></div></div></div></div></div><div class=\"sk-item\"><div class=\"sk-estimator sk-toggleable\"><input class=\"sk-toggleable__control sk-hidden--visually\" id=\"sk-estimator-id-19\" type=\"checkbox\" ><label for=\"sk-estimator-id-19\" class=\"sk-toggleable__label sk-toggleable__label-arrow\">None</label><div class=\"sk-toggleable__content\"><pre>None</pre></div></div></div><div class=\"sk-item\"><div class=\"sk-estimator sk-toggleable\"><input class=\"sk-toggleable__control sk-hidden--visually\" id=\"sk-estimator-id-20\" type=\"checkbox\" ><label for=\"sk-estimator-id-20\" class=\"sk-toggleable__label sk-toggleable__label-arrow\">XGBClassifier</label><div class=\"sk-toggleable__content\"><pre>XGBClassifier(base_score=None, booster=&#x27;gbtree&#x27;, callbacks=None,\n",
       "              colsample_bylevel=None, colsample_bynode=None,\n",
       "              colsample_bytree=None, early_stopping_rounds=None,\n",
       "              enable_categorical=False, eval_metric=None, feature_types=None,\n",
       "              gamma=None, gpu_id=None, grow_policy=None, importance_type=None,\n",
       "              interaction_constraints=None, learning_rate=None, max_bin=None,\n",
       "              max_cat_threshold=None, max_cat_to_onehot=None,\n",
       "              max_delta_step=None, max_depth=None, max_leaves=None,\n",
       "              min_child_weight=None, missing=nan, monotone_constraints=None,\n",
       "              n_estimators=100, n_jobs=None, num_parallel_tree=None,\n",
       "              predictor=None, random_state=42, ...)</pre></div></div></div></div></div></div></div></div></div></div></div></div>"
      ],
      "text/plain": [
       "RandomizedSearchCV(cv=<generator object _BaseKFold.split at 0x129b95fc0>,\n",
       "                   estimator=Pipeline(steps=[('prep',\n",
       "                                              ColumnTransformer(transformers=[('num',\n",
       "                                                                               Pipeline(steps=[('poly',\n",
       "                                                                                                PolynomialFeatures()),\n",
       "                                                                                               ('scaler',\n",
       "                                                                                                MinMaxScaler())]),\n",
       "                                                                               Index(['innings', 'overs', 'balls', 'bat_0_runs', 'bat_1_runs', 'bat_2_runs',\n",
       "       'bat_3_runs', 'bat_4_runs', 'bat_6_runs', 'bat_num_dismissals',\n",
       "       'b...\n",
       "       0.5283, 0.549 , 0.5693, 0.59  , 0.6104, 0.631 , 0.6514, 0.672 ,\n",
       "       0.6924, 0.713 , 0.7334, 0.754 , 0.7744, 0.795 , 0.8154, 0.836 ,\n",
       "       0.8564, 0.877 , 0.8975, 0.918 , 0.9385, 0.959 , 0.9795, 1.    ],\n",
       "      dtype=float16),\n",
       "                                        'prep__num__poly__degree': array([1, 2, 3], dtype=int16),\n",
       "                                        'prep__num__poly__include_bias': [True,\n",
       "                                                                          False],\n",
       "                                        'prep__num__poly__interaction_only': [True]},\n",
       "                   random_state=42, scoring=make_scorer(custom_f1))"
      ]
     },
     "execution_count": 26,
     "metadata": {},
     "output_type": "execute_result"
    }
   ],
   "source": [
    "# model = RandomForestClassifier(bootstrap=True, n_jobs=-1,random_state=420)\n",
    "model = pipe['clf'].__class__.__name__\n",
    "cv = StratifiedKFold(n_splits=3, shuffle=True, random_state=RANDOM_STATE)\n",
    "rs=RandomizedSearchCV(pipe,params_wrapper('xgb'), n_iter = 20, n_jobs=-1,cv=cv.split(X_train, y_train), scoring=custom_f1,random_state=RANDOM_STATE)\n",
    "rs.fit(X_train, y_train)"
   ]
  },
  {
   "cell_type": "code",
   "execution_count": 27,
   "metadata": {},
   "outputs": [
    {
     "data": {
      "text/plain": [
       "(0.08100041756935322,\n",
       " {'prep__num__poly__interaction_only': True,\n",
       "  'prep__num__poly__include_bias': True,\n",
       "  'prep__num__poly__degree': 1,\n",
       "  'clf__subsample': 0.323,\n",
       "  'clf__reg_lambda': 0.3691,\n",
       "  'clf__reg_alpha': 0.7373,\n",
       "  'clf__n_estimators': 277,\n",
       "  'clf__monotone_constraints': (-1, 1),\n",
       "  'clf__min_child_weight': 0.3083,\n",
       "  'clf__learning_rate': 0.4,\n",
       "  'clf__grow_policy': 'depthwise',\n",
       "  'clf__gamma': 0.4685,\n",
       "  'clf__colsample_bytree': 0.769,\n",
       "  'clf__colsample_bynode': 0.631,\n",
       "  'clf__colsample_bylevel': 0.3076})"
      ]
     },
     "execution_count": 27,
     "metadata": {},
     "output_type": "execute_result"
    }
   ],
   "source": [
    "#check the validation f1 score\n",
    "rs.best_score_, rs.best_params_"
   ]
  },
  {
   "cell_type": "code",
   "execution_count": 28,
   "metadata": {},
   "outputs": [
    {
     "data": {
      "text/plain": [
       "0.06669516208521065"
      ]
     },
     "execution_count": 28,
     "metadata": {},
     "output_type": "execute_result"
    }
   ],
   "source": [
    "#check the test f1 score\n",
    "predictions = rs.predict(X_test)\n",
    "custom_scorer(y_test, predictions, important_classes)"
   ]
  },
  {
   "cell_type": "code",
   "execution_count": 30,
   "metadata": {},
   "outputs": [
    {
     "data": {
      "text/plain": [
       "({'four': 59.010989010989015,\n",
       "  'norun': 64.10910831073537,\n",
       "  'run': 65.41833667334669,\n",
       "  'six': 58.691206543967276,\n",
       "  'wicket': 77.99145299145299},\n",
       " {'four': 12.121212121212121,\n",
       "  'norun': 41.66666666666667,\n",
       "  'run': 45.98870056497175,\n",
       "  'six': 11.320754716981133,\n",
       "  'wicket': 8.571428571428571})"
      ]
     },
     "execution_count": 30,
     "metadata": {},
     "output_type": "execute_result"
    }
   ],
   "source": [
    "calc_metrics(rs, label_dict, training=True, metric='precision'), calc_metrics(rs, label_dict, training=False, metric='precision')"
   ]
  },
  {
   "cell_type": "code",
   "execution_count": 21,
   "metadata": {},
   "outputs": [],
   "source": [
    "cm = wandb.plot.confusion_matrix(\n",
    "    y_true=y_test,\n",
    "    preds=predictions,\n",
    "    class_names=labels)\n",
    "\n",
    "wandb.log({\n",
    "    f\"cv_custom_f1_{model}\": rs.best_score_,\n",
    "    f\"recall_test_{model}\": calc_metrics(rs, label_dict, training=False, metric='recall'),\n",
    "    f\"precision_test_{model}\": calc_metrics(rs, label_dict, training=False, metric='precision'),\n",
    "    'best_params': rs.best_params_,\n",
    "    \"conf_mat\": cm,\n",
    "})"
   ]
  },
  {
   "cell_type": "code",
   "execution_count": 22,
   "metadata": {},
   "outputs": [
    {
     "data": {
      "text/html": [
       "Waiting for W&B process to finish... <strong style=\"color:green\">(success).</strong>"
      ],
      "text/plain": [
       "<IPython.core.display.HTML object>"
      ]
     },
     "metadata": {},
     "output_type": "display_data"
    },
    {
     "data": {
      "application/vnd.jupyter.widget-view+json": {
       "model_id": "68ce8dc94d3a46768a7b0adff650aa91",
       "version_major": 2,
       "version_minor": 0
      },
      "text/plain": [
       "VBox(children=(Label(value='0.003 MB of 0.014 MB uploaded (0.000 MB deduped)\\r'), FloatProgress(value=0.180233…"
      ]
     },
     "metadata": {},
     "output_type": "display_data"
    },
    {
     "data": {
      "text/html": [
       "<style>\n",
       "    table.wandb td:nth-child(1) { padding: 0 10px; text-align: left ; width: auto;} td:nth-child(2) {text-align: left ; width: 100%}\n",
       "    .wandb-row { display: flex; flex-direction: row; flex-wrap: wrap; justify-content: flex-start; width: 100% }\n",
       "    .wandb-col { display: flex; flex-direction: column; flex-basis: 100%; flex: 1; padding: 10px; }\n",
       "    </style>\n",
       "<div class=\"wandb-row\"><div class=\"wandb-col\"><h3>Run history:</h3><br/><table class=\"wandb\"><tr><td>cv_custom_f1_XGBClassifier</td><td>▁</td></tr></table><br/></div><div class=\"wandb-col\"><h3>Run summary:</h3><br/><table class=\"wandb\"><tr><td>cv_custom_f1_XGBClassifier</td><td>0.09235</td></tr></table><br/></div></div>"
      ],
      "text/plain": [
       "<IPython.core.display.HTML object>"
      ]
     },
     "metadata": {},
     "output_type": "display_data"
    },
    {
     "data": {
      "text/html": [
       " View run <strong style=\"color:#cdcd00\">chocolate-wood-163</strong> at: <a href='https://wandb.ai/gsparsh/Dream11/runs/5y9nt6j5' target=\"_blank\">https://wandb.ai/gsparsh/Dream11/runs/5y9nt6j5</a><br/>Synced 5 W&B file(s), 1 media file(s), 1 artifact file(s) and 0 other file(s)"
      ],
      "text/plain": [
       "<IPython.core.display.HTML object>"
      ]
     },
     "metadata": {},
     "output_type": "display_data"
    },
    {
     "data": {
      "text/html": [
       "Find logs at: <code>./wandb/run-20230509_124630-5y9nt6j5/logs</code>"
      ],
      "text/plain": [
       "<IPython.core.display.HTML object>"
      ]
     },
     "metadata": {},
     "output_type": "display_data"
    }
   ],
   "source": [
    "run.finish()"
   ]
  },
  {
   "cell_type": "code",
   "execution_count": null,
   "metadata": {},
   "outputs": [],
   "source": []
  }
 ],
 "metadata": {
  "kernelspec": {
   "display_name": "Python 3 (ipykernel)",
   "language": "python",
   "name": "python3"
  },
  "language_info": {
   "codemirror_mode": {
    "name": "ipython",
    "version": 3
   },
   "file_extension": ".py",
   "mimetype": "text/x-python",
   "name": "python",
   "nbconvert_exporter": "python",
   "pygments_lexer": "ipython3",
   "version": "3.11.0"
  },
  "orig_nbformat": 4
 },
 "nbformat": 4,
 "nbformat_minor": 2
}
