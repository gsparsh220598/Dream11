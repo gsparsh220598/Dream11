{
 "cells": [
  {
   "cell_type": "code",
   "execution_count": 3,
   "metadata": {},
   "outputs": [
    {
     "name": "stderr",
     "output_type": "stream",
     "text": [
      "\u001b[34m\u001b[1mwandb\u001b[0m: Logging into wandb.ai. (Learn how to deploy a W&B server locally: https://wandb.me/wandb-server)\n",
      "\u001b[34m\u001b[1mwandb\u001b[0m: You can find your API key in your browser here: https://wandb.ai/authorize\n",
      "\u001b[34m\u001b[1mwandb\u001b[0m: Paste an API key from your profile and hit enter, or press ctrl+c to quit:\u001b[34m\u001b[1mwandb\u001b[0m: Appending key for api.wandb.ai to your netrc file: /root/.netrc\n"
     ]
    },
    {
     "data": {
      "text/plain": [
       "True"
      ]
     },
     "execution_count": 3,
     "metadata": {},
     "output_type": "execute_result"
    }
   ],
   "source": [
    "environment = 'local'\n",
    "if environment == 'paperspace':\n",
    "    os.chdir('/notebooks/Scripts')\n",
    "\n",
    "import pandas as pd\n",
    "import numpy as np\n",
    "import matplotlib.pyplot as plt\n",
    "import seaborn as sns\n",
    "\n",
    "from sklearn.base import BaseEstimator, TransformerMixin\n",
    "from sklearn.impute import SimpleImputer\n",
    "from sklearn.preprocessing import OneHotEncoder, MinMaxScaler, PolynomialFeatures, SplineTransformer, KBinsDiscretizer, \\\n",
    "     StandardScaler, OrdinalEncoder, LabelEncoder\n",
    "from sklearn.feature_selection import SelectKBest, f_regression, r_regression, mutual_info_regression\n",
    "from sklearn.pipeline import Pipeline\n",
    "from sklearn.compose import ColumnTransformer\n",
    "from sklearn.metrics import mean_absolute_error, r2_score, get_scorer_names, accuracy_score, f1_score, precision_score, \\\n",
    "     confusion_matrix, recall_score, roc_auc_score, roc_curve, auc\n",
    "from sklearn.model_selection import RandomizedSearchCV, train_test_split, cross_val_score, StratifiedKFold, cross_validate, TimeSeriesSplit\n",
    "from sklearn.ensemble import IsolationForest\n",
    "from sklearn.covariance import EllipticEnvelope\n",
    "from sklearn.svm import SVC\n",
    "from sklearn.neighbors import KNeighborsRegressor, LocalOutlierFactor\n",
    "import sklearn.linear_model as lm\n",
    "from sklearn.ensemble import RandomForestClassifier\n",
    "\n",
    "import os\n",
    "import pickle\n",
    "import wandb\n",
    "import warnings\n",
    "import utility as ut\n",
    "warnings.filterwarnings('ignore')\n",
    "wandb.login()"
   ]
  },
  {
   "cell_type": "code",
   "execution_count": 4,
   "metadata": {},
   "outputs": [
    {
     "name": "stderr",
     "output_type": "stream",
     "text": [
      "\u001b[34m\u001b[1mwandb\u001b[0m: Currently logged in as: \u001b[33mgsparsh\u001b[0m. Use \u001b[1m`wandb login --relogin`\u001b[0m to force relogin\n"
     ]
    },
    {
     "data": {
      "text/html": [
       "wandb version 0.14.0 is available!  To upgrade, please run:\n",
       " $ pip install wandb --upgrade"
      ],
      "text/plain": [
       "<IPython.core.display.HTML object>"
      ]
     },
     "metadata": {},
     "output_type": "display_data"
    },
    {
     "data": {
      "text/html": [
       "Tracking run with wandb version 0.13.4"
      ],
      "text/plain": [
       "<IPython.core.display.HTML object>"
      ]
     },
     "metadata": {},
     "output_type": "display_data"
    },
    {
     "data": {
      "text/html": [
       "Run data is saved locally in <code>/notebooks/Scripts/wandb/run-20230330_154804-mtj5aynk</code>"
      ],
      "text/plain": [
       "<IPython.core.display.HTML object>"
      ]
     },
     "metadata": {},
     "output_type": "display_data"
    },
    {
     "data": {
      "text/html": [
       "Syncing run <strong><a href=\"https://wandb.ai/gsparsh/Dream11/runs/mtj5aynk\" target=\"_blank\">fresh-totem-17</a></strong> to <a href=\"https://wandb.ai/gsparsh/Dream11\" target=\"_blank\">Weights & Biases</a> (<a href=\"https://wandb.me/run\" target=\"_blank\">docs</a>)<br/>"
      ],
      "text/plain": [
       "<IPython.core.display.HTML object>"
      ]
     },
     "metadata": {},
     "output_type": "display_data"
    }
   ],
   "source": [
    "run = wandb.init(\n",
    "  project=ut.PROJECT_NAME, entity=ut.ENTITY, job_type=\"modeling\",\n",
    "  notes=\"Modeling with hyperparameter tuning\",\n",
    "  tags=[\"no_feature_eng\", \"multiclass_classification\", \"imbalanced_data\", \"hyperparameter_tuning\", \"random_search\", \"random_forest\"]\n",
    ")"
   ]
  },
  {
   "cell_type": "code",
   "execution_count": 5,
   "metadata": {},
   "outputs": [],
   "source": [
    "if environment == 'local':\n",
    "    train = pd.read_csv('../Inputs/ball-by-ball prediction/train.csv')\n",
    "else:\n",
    "    train = pd.read_csv('train.csv')"
   ]
  },
  {
   "cell_type": "code",
   "execution_count": 12,
   "metadata": {},
   "outputs": [],
   "source": [
    "def get_train_test_split(df, target = 'target', test_size=0.1):\n",
    "    le = LabelEncoder()\n",
    "    X, y = df.drop(target, axis=1), le.fit_transform(df[target])\n",
    "    X_train, X_test, y_train, y_test = train_test_split(X, y, test_size=test_size, shuffle=False)\n",
    "    return X_train, X_test, y_train, y_test"
   ]
  },
  {
   "cell_type": "code",
   "execution_count": 13,
   "metadata": {},
   "outputs": [],
   "source": [
    "X_train, X_test, y_train, y_test = get_train_test_split(train)"
   ]
  },
  {
   "cell_type": "code",
   "execution_count": 14,
   "metadata": {},
   "outputs": [],
   "source": [
    "cat_features = X_train.select_dtypes(include=['object']).columns\n",
    "num_features = X_train.select_dtypes(exclude=['object']).columns"
   ]
  },
  {
   "cell_type": "code",
   "execution_count": 15,
   "metadata": {},
   "outputs": [
    {
     "data": {
      "text/plain": [
       "(Index(['venue', 'batting_team', 'bowling_team', 'striker', 'non_striker',\n",
       "        'bowler'],\n",
       "       dtype='object'),\n",
       " Index(['innings', 'overs', 'balls', 'bat_0_runs', 'bat_1_runs', 'bat_2_runs',\n",
       "        'bat_3_runs', 'bat_4_runs', 'bat_6_runs', 'bat_num_dismissals',\n",
       "        'bat_wides', 'bat_total_balls', 'bowl_0_runs', 'bowl_1_runs',\n",
       "        'bowl_2_runs', 'bowl_3_runs', 'bowl_4_runs', 'bowl_6_runs',\n",
       "        'bowl_num_dismissals', 'bowl_wides', 'bowl_total_balls'],\n",
       "       dtype='object'))"
      ]
     },
     "execution_count": 15,
     "metadata": {},
     "output_type": "execute_result"
    }
   ],
   "source": [
    "cat_features, num_features"
   ]
  },
  {
   "cell_type": "code",
   "execution_count": 16,
   "metadata": {},
   "outputs": [],
   "source": [
    "numeric_transformer = Pipeline([\n",
    "      # ('poly_feats', PolynomialFeatures(degree=2)),\n",
    "      # ('b_splines', SplineTransformer()),\n",
    "      ('scaler', StandardScaler()),\n",
    "    #   ('bin', KBinsDiscretizer(encode='ordinal')), #only improved Lars\n",
    "      # ('select_feats', SelectKBest(f_regression, k=10))\n",
    "])\n",
    "categorical_transformer = Pipeline([\n",
    "      ('encoder', OrdinalEncoder(handle_unknown='use_encoded_value', unknown_value=-1)),\n",
    "])"
   ]
  },
  {
   "cell_type": "code",
   "execution_count": 17,
   "metadata": {},
   "outputs": [],
   "source": [
    "preprocessor = ColumnTransformer(\n",
    "    transformers=[\n",
    "        # ('new_feats', CustomFeatureTransformer(), num_features),\n",
    "        ('num', numeric_transformer, num_features),\n",
    "        ('cat', categorical_transformer, cat_features)\n",
    "    ]\n",
    ")"
   ]
  },
  {
   "cell_type": "code",
   "execution_count": 34,
   "metadata": {},
   "outputs": [],
   "source": [
    "params={\n",
    "    'rf__n_estimators': np.linspace(200, 1000, 10, dtype=np.int64),\n",
    "    'rf__max_depth': np.linspace(10, 100, 10, dtype=np.int64),\n",
    "    'rf__min_samples_split': np.linspace(5, 30, 10, dtype=np.int64),\n",
    "    'rf__min_samples_leaf': np.linspace(2, 30, 10, dtype=np.int64),\n",
    "    'rf__max_features': ['log2', 'sqrt'],\n",
    "    'rf__criterion': ['gini', 'entropy'],\n",
    "    'rf__bootstrap': [True, False],\n",
    "    'rf__class_weight': ['balanced', 'balanced_subsample'],\n",
    "    'rf__max_samples': np.linspace(0.1, 1.0, 10),\n",
    "    'rf__ccp_alpha': np.linspace(0.0, 5.0, 20)\n",
    "}"
   ]
  },
  {
   "cell_type": "code",
   "execution_count": 35,
   "metadata": {},
   "outputs": [
    {
     "data": {
      "text/plain": [
       "dict_keys(['memory', 'steps', 'verbose', 'prep', 'rf', 'prep__n_jobs', 'prep__remainder', 'prep__sparse_threshold', 'prep__transformer_weights', 'prep__transformers', 'prep__verbose', 'prep__verbose_feature_names_out', 'prep__num', 'prep__cat', 'prep__num__memory', 'prep__num__steps', 'prep__num__verbose', 'prep__num__scaler', 'prep__num__scaler__copy', 'prep__num__scaler__with_mean', 'prep__num__scaler__with_std', 'prep__cat__memory', 'prep__cat__steps', 'prep__cat__verbose', 'prep__cat__encoder', 'prep__cat__encoder__categories', 'prep__cat__encoder__dtype', 'prep__cat__encoder__encoded_missing_value', 'prep__cat__encoder__handle_unknown', 'prep__cat__encoder__unknown_value', 'rf__bootstrap', 'rf__ccp_alpha', 'rf__class_weight', 'rf__criterion', 'rf__max_depth', 'rf__max_features', 'rf__max_leaf_nodes', 'rf__max_samples', 'rf__min_impurity_decrease', 'rf__min_samples_leaf', 'rf__min_samples_split', 'rf__min_weight_fraction_leaf', 'rf__n_estimators', 'rf__n_jobs', 'rf__oob_score', 'rf__random_state', 'rf__verbose', 'rf__warm_start'])"
      ]
     },
     "execution_count": 35,
     "metadata": {},
     "output_type": "execute_result"
    }
   ],
   "source": [
    "#Randomized Search CV - RF\n",
    "pipe = Pipeline([\n",
    "    ('prep', preprocessor),\n",
    "    ('rf', RandomForestClassifier( n_jobs=-1, random_state=3142))\n",
    "])\n",
    "pipe.get_params().keys()"
   ]
  },
  {
   "cell_type": "code",
   "execution_count": 40,
   "metadata": {},
   "outputs": [
    {
     "data": {
      "text/html": [
       "<style>#sk-container-id-2 {color: black;background-color: white;}#sk-container-id-2 pre{padding: 0;}#sk-container-id-2 div.sk-toggleable {background-color: white;}#sk-container-id-2 label.sk-toggleable__label {cursor: pointer;display: block;width: 100%;margin-bottom: 0;padding: 0.3em;box-sizing: border-box;text-align: center;}#sk-container-id-2 label.sk-toggleable__label-arrow:before {content: \"▸\";float: left;margin-right: 0.25em;color: #696969;}#sk-container-id-2 label.sk-toggleable__label-arrow:hover:before {color: black;}#sk-container-id-2 div.sk-estimator:hover label.sk-toggleable__label-arrow:before {color: black;}#sk-container-id-2 div.sk-toggleable__content {max-height: 0;max-width: 0;overflow: hidden;text-align: left;background-color: #f0f8ff;}#sk-container-id-2 div.sk-toggleable__content pre {margin: 0.2em;color: black;border-radius: 0.25em;background-color: #f0f8ff;}#sk-container-id-2 input.sk-toggleable__control:checked~div.sk-toggleable__content {max-height: 200px;max-width: 100%;overflow: auto;}#sk-container-id-2 input.sk-toggleable__control:checked~label.sk-toggleable__label-arrow:before {content: \"▾\";}#sk-container-id-2 div.sk-estimator input.sk-toggleable__control:checked~label.sk-toggleable__label {background-color: #d4ebff;}#sk-container-id-2 div.sk-label input.sk-toggleable__control:checked~label.sk-toggleable__label {background-color: #d4ebff;}#sk-container-id-2 input.sk-hidden--visually {border: 0;clip: rect(1px 1px 1px 1px);clip: rect(1px, 1px, 1px, 1px);height: 1px;margin: -1px;overflow: hidden;padding: 0;position: absolute;width: 1px;}#sk-container-id-2 div.sk-estimator {font-family: monospace;background-color: #f0f8ff;border: 1px dotted black;border-radius: 0.25em;box-sizing: border-box;margin-bottom: 0.5em;}#sk-container-id-2 div.sk-estimator:hover {background-color: #d4ebff;}#sk-container-id-2 div.sk-parallel-item::after {content: \"\";width: 100%;border-bottom: 1px solid gray;flex-grow: 1;}#sk-container-id-2 div.sk-label:hover label.sk-toggleable__label {background-color: #d4ebff;}#sk-container-id-2 div.sk-serial::before {content: \"\";position: absolute;border-left: 1px solid gray;box-sizing: border-box;top: 0;bottom: 0;left: 50%;z-index: 0;}#sk-container-id-2 div.sk-serial {display: flex;flex-direction: column;align-items: center;background-color: white;padding-right: 0.2em;padding-left: 0.2em;position: relative;}#sk-container-id-2 div.sk-item {position: relative;z-index: 1;}#sk-container-id-2 div.sk-parallel {display: flex;align-items: stretch;justify-content: center;background-color: white;position: relative;}#sk-container-id-2 div.sk-item::before, #sk-container-id-2 div.sk-parallel-item::before {content: \"\";position: absolute;border-left: 1px solid gray;box-sizing: border-box;top: 0;bottom: 0;left: 50%;z-index: -1;}#sk-container-id-2 div.sk-parallel-item {display: flex;flex-direction: column;z-index: 1;position: relative;background-color: white;}#sk-container-id-2 div.sk-parallel-item:first-child::after {align-self: flex-end;width: 50%;}#sk-container-id-2 div.sk-parallel-item:last-child::after {align-self: flex-start;width: 50%;}#sk-container-id-2 div.sk-parallel-item:only-child::after {width: 0;}#sk-container-id-2 div.sk-dashed-wrapped {border: 1px dashed gray;margin: 0 0.4em 0.5em 0.4em;box-sizing: border-box;padding-bottom: 0.4em;background-color: white;}#sk-container-id-2 div.sk-label label {font-family: monospace;font-weight: bold;display: inline-block;line-height: 1.2em;}#sk-container-id-2 div.sk-label-container {text-align: center;}#sk-container-id-2 div.sk-container {/* jupyter's `normalize.less` sets `[hidden] { display: none; }` but bootstrap.min.css set `[hidden] { display: none !important; }` so we also need the `!important` here to be able to override the default hidden behavior on the sphinx rendered scikit-learn.org. See: https://github.com/scikit-learn/scikit-learn/issues/21755 */display: inline-block !important;position: relative;}#sk-container-id-2 div.sk-text-repr-fallback {display: none;}</style><div id=\"sk-container-id-2\" class=\"sk-top-container\"><div class=\"sk-text-repr-fallback\"><pre>RandomizedSearchCV(cv=&lt;generator object _BaseKFold.split at 0x7fe9bf5560b0&gt;,\n",
       "                   estimator=Pipeline(steps=[(&#x27;prep&#x27;,\n",
       "                                              ColumnTransformer(transformers=[(&#x27;num&#x27;,\n",
       "                                                                               Pipeline(steps=[(&#x27;scaler&#x27;,\n",
       "                                                                                                StandardScaler())]),\n",
       "                                                                               Index([&#x27;innings&#x27;, &#x27;overs&#x27;, &#x27;balls&#x27;, &#x27;bat_0_runs&#x27;, &#x27;bat_1_runs&#x27;, &#x27;bat_2_runs&#x27;,\n",
       "       &#x27;bat_3_runs&#x27;, &#x27;bat_4_runs&#x27;, &#x27;bat_6_runs&#x27;, &#x27;bat_num_dismissals&#x27;,\n",
       "       &#x27;bat_wides&#x27;, &#x27;bat_total_ball...\n",
       "                                        &#x27;rf__max_depth&#x27;: array([ 10,  20,  30,  40,  50,  60,  70,  80,  90, 100]),\n",
       "                                        &#x27;rf__max_features&#x27;: [&#x27;log2&#x27;, &#x27;sqrt&#x27;],\n",
       "                                        &#x27;rf__max_samples&#x27;: array([0.1, 0.2, 0.3, 0.4, 0.5, 0.6, 0.7, 0.8, 0.9, 1. ]),\n",
       "                                        &#x27;rf__min_samples_leaf&#x27;: array([ 2,  5,  8, 11, 14, 17, 20, 23, 26, 30]),\n",
       "                                        &#x27;rf__min_samples_split&#x27;: array([ 5,  7, 10, 13, 16, 18, 21, 24, 27, 30]),\n",
       "                                        &#x27;rf__n_estimators&#x27;: array([ 200,  288,  377,  466,  555,  644,  733,  822,  911, 1000])},\n",
       "                   random_state=420)</pre><b>In a Jupyter environment, please rerun this cell to show the HTML representation or trust the notebook. <br />On GitHub, the HTML representation is unable to render, please try loading this page with nbviewer.org.</b></div><div class=\"sk-container\" hidden><div class=\"sk-item sk-dashed-wrapped\"><div class=\"sk-label-container\"><div class=\"sk-label sk-toggleable\"><input class=\"sk-toggleable__control sk-hidden--visually\" id=\"sk-estimator-id-9\" type=\"checkbox\" ><label for=\"sk-estimator-id-9\" class=\"sk-toggleable__label sk-toggleable__label-arrow\">RandomizedSearchCV</label><div class=\"sk-toggleable__content\"><pre>RandomizedSearchCV(cv=&lt;generator object _BaseKFold.split at 0x7fe9bf5560b0&gt;,\n",
       "                   estimator=Pipeline(steps=[(&#x27;prep&#x27;,\n",
       "                                              ColumnTransformer(transformers=[(&#x27;num&#x27;,\n",
       "                                                                               Pipeline(steps=[(&#x27;scaler&#x27;,\n",
       "                                                                                                StandardScaler())]),\n",
       "                                                                               Index([&#x27;innings&#x27;, &#x27;overs&#x27;, &#x27;balls&#x27;, &#x27;bat_0_runs&#x27;, &#x27;bat_1_runs&#x27;, &#x27;bat_2_runs&#x27;,\n",
       "       &#x27;bat_3_runs&#x27;, &#x27;bat_4_runs&#x27;, &#x27;bat_6_runs&#x27;, &#x27;bat_num_dismissals&#x27;,\n",
       "       &#x27;bat_wides&#x27;, &#x27;bat_total_ball...\n",
       "                                        &#x27;rf__max_depth&#x27;: array([ 10,  20,  30,  40,  50,  60,  70,  80,  90, 100]),\n",
       "                                        &#x27;rf__max_features&#x27;: [&#x27;log2&#x27;, &#x27;sqrt&#x27;],\n",
       "                                        &#x27;rf__max_samples&#x27;: array([0.1, 0.2, 0.3, 0.4, 0.5, 0.6, 0.7, 0.8, 0.9, 1. ]),\n",
       "                                        &#x27;rf__min_samples_leaf&#x27;: array([ 2,  5,  8, 11, 14, 17, 20, 23, 26, 30]),\n",
       "                                        &#x27;rf__min_samples_split&#x27;: array([ 5,  7, 10, 13, 16, 18, 21, 24, 27, 30]),\n",
       "                                        &#x27;rf__n_estimators&#x27;: array([ 200,  288,  377,  466,  555,  644,  733,  822,  911, 1000])},\n",
       "                   random_state=420)</pre></div></div></div><div class=\"sk-parallel\"><div class=\"sk-parallel-item\"><div class=\"sk-item\"><div class=\"sk-label-container\"><div class=\"sk-label sk-toggleable\"><input class=\"sk-toggleable__control sk-hidden--visually\" id=\"sk-estimator-id-10\" type=\"checkbox\" ><label for=\"sk-estimator-id-10\" class=\"sk-toggleable__label sk-toggleable__label-arrow\">estimator: Pipeline</label><div class=\"sk-toggleable__content\"><pre>Pipeline(steps=[(&#x27;prep&#x27;,\n",
       "                 ColumnTransformer(transformers=[(&#x27;num&#x27;,\n",
       "                                                  Pipeline(steps=[(&#x27;scaler&#x27;,\n",
       "                                                                   StandardScaler())]),\n",
       "                                                  Index([&#x27;innings&#x27;, &#x27;overs&#x27;, &#x27;balls&#x27;, &#x27;bat_0_runs&#x27;, &#x27;bat_1_runs&#x27;, &#x27;bat_2_runs&#x27;,\n",
       "       &#x27;bat_3_runs&#x27;, &#x27;bat_4_runs&#x27;, &#x27;bat_6_runs&#x27;, &#x27;bat_num_dismissals&#x27;,\n",
       "       &#x27;bat_wides&#x27;, &#x27;bat_total_balls&#x27;, &#x27;bowl_0_runs&#x27;, &#x27;bowl_1_runs&#x27;,\n",
       "       &#x27;bowl_2_runs&#x27;, &#x27;bowl_3_runs&#x27;, &#x27;bowl_4_runs&#x27;, &#x27;bowl_6_runs&#x27;,\n",
       "       &#x27;bowl_num_dismissals&#x27;, &#x27;bowl_wides&#x27;, &#x27;bowl_total_balls&#x27;],\n",
       "      dtype=&#x27;object&#x27;)),\n",
       "                                                 (&#x27;cat&#x27;,\n",
       "                                                  Pipeline(steps=[(&#x27;encoder&#x27;,\n",
       "                                                                   OrdinalEncoder(handle_unknown=&#x27;use_encoded_value&#x27;,\n",
       "                                                                                  unknown_value=-1))]),\n",
       "                                                  Index([&#x27;venue&#x27;, &#x27;batting_team&#x27;, &#x27;bowling_team&#x27;, &#x27;striker&#x27;, &#x27;non_striker&#x27;,\n",
       "       &#x27;bowler&#x27;],\n",
       "      dtype=&#x27;object&#x27;))])),\n",
       "                (&#x27;rf&#x27;, RandomForestClassifier(n_jobs=-1, random_state=3142))])</pre></div></div></div><div class=\"sk-serial\"><div class=\"sk-item\"><div class=\"sk-serial\"><div class=\"sk-item sk-dashed-wrapped\"><div class=\"sk-label-container\"><div class=\"sk-label sk-toggleable\"><input class=\"sk-toggleable__control sk-hidden--visually\" id=\"sk-estimator-id-11\" type=\"checkbox\" ><label for=\"sk-estimator-id-11\" class=\"sk-toggleable__label sk-toggleable__label-arrow\">prep: ColumnTransformer</label><div class=\"sk-toggleable__content\"><pre>ColumnTransformer(transformers=[(&#x27;num&#x27;,\n",
       "                                 Pipeline(steps=[(&#x27;scaler&#x27;, StandardScaler())]),\n",
       "                                 Index([&#x27;innings&#x27;, &#x27;overs&#x27;, &#x27;balls&#x27;, &#x27;bat_0_runs&#x27;, &#x27;bat_1_runs&#x27;, &#x27;bat_2_runs&#x27;,\n",
       "       &#x27;bat_3_runs&#x27;, &#x27;bat_4_runs&#x27;, &#x27;bat_6_runs&#x27;, &#x27;bat_num_dismissals&#x27;,\n",
       "       &#x27;bat_wides&#x27;, &#x27;bat_total_balls&#x27;, &#x27;bowl_0_runs&#x27;, &#x27;bowl_1_runs&#x27;,\n",
       "       &#x27;bowl_2_runs&#x27;, &#x27;bowl_3_runs&#x27;, &#x27;bowl_4_runs&#x27;, &#x27;bowl_6_runs&#x27;,\n",
       "       &#x27;bowl_num_dismissals&#x27;, &#x27;bowl_wides&#x27;, &#x27;bowl_total_balls&#x27;],\n",
       "      dtype=&#x27;object&#x27;)),\n",
       "                                (&#x27;cat&#x27;,\n",
       "                                 Pipeline(steps=[(&#x27;encoder&#x27;,\n",
       "                                                  OrdinalEncoder(handle_unknown=&#x27;use_encoded_value&#x27;,\n",
       "                                                                 unknown_value=-1))]),\n",
       "                                 Index([&#x27;venue&#x27;, &#x27;batting_team&#x27;, &#x27;bowling_team&#x27;, &#x27;striker&#x27;, &#x27;non_striker&#x27;,\n",
       "       &#x27;bowler&#x27;],\n",
       "      dtype=&#x27;object&#x27;))])</pre></div></div></div><div class=\"sk-parallel\"><div class=\"sk-parallel-item\"><div class=\"sk-item\"><div class=\"sk-label-container\"><div class=\"sk-label sk-toggleable\"><input class=\"sk-toggleable__control sk-hidden--visually\" id=\"sk-estimator-id-12\" type=\"checkbox\" ><label for=\"sk-estimator-id-12\" class=\"sk-toggleable__label sk-toggleable__label-arrow\">num</label><div class=\"sk-toggleable__content\"><pre>Index([&#x27;innings&#x27;, &#x27;overs&#x27;, &#x27;balls&#x27;, &#x27;bat_0_runs&#x27;, &#x27;bat_1_runs&#x27;, &#x27;bat_2_runs&#x27;,\n",
       "       &#x27;bat_3_runs&#x27;, &#x27;bat_4_runs&#x27;, &#x27;bat_6_runs&#x27;, &#x27;bat_num_dismissals&#x27;,\n",
       "       &#x27;bat_wides&#x27;, &#x27;bat_total_balls&#x27;, &#x27;bowl_0_runs&#x27;, &#x27;bowl_1_runs&#x27;,\n",
       "       &#x27;bowl_2_runs&#x27;, &#x27;bowl_3_runs&#x27;, &#x27;bowl_4_runs&#x27;, &#x27;bowl_6_runs&#x27;,\n",
       "       &#x27;bowl_num_dismissals&#x27;, &#x27;bowl_wides&#x27;, &#x27;bowl_total_balls&#x27;],\n",
       "      dtype=&#x27;object&#x27;)</pre></div></div></div><div class=\"sk-serial\"><div class=\"sk-item\"><div class=\"sk-serial\"><div class=\"sk-item\"><div class=\"sk-estimator sk-toggleable\"><input class=\"sk-toggleable__control sk-hidden--visually\" id=\"sk-estimator-id-13\" type=\"checkbox\" ><label for=\"sk-estimator-id-13\" class=\"sk-toggleable__label sk-toggleable__label-arrow\">StandardScaler</label><div class=\"sk-toggleable__content\"><pre>StandardScaler()</pre></div></div></div></div></div></div></div></div><div class=\"sk-parallel-item\"><div class=\"sk-item\"><div class=\"sk-label-container\"><div class=\"sk-label sk-toggleable\"><input class=\"sk-toggleable__control sk-hidden--visually\" id=\"sk-estimator-id-14\" type=\"checkbox\" ><label for=\"sk-estimator-id-14\" class=\"sk-toggleable__label sk-toggleable__label-arrow\">cat</label><div class=\"sk-toggleable__content\"><pre>Index([&#x27;venue&#x27;, &#x27;batting_team&#x27;, &#x27;bowling_team&#x27;, &#x27;striker&#x27;, &#x27;non_striker&#x27;,\n",
       "       &#x27;bowler&#x27;],\n",
       "      dtype=&#x27;object&#x27;)</pre></div></div></div><div class=\"sk-serial\"><div class=\"sk-item\"><div class=\"sk-serial\"><div class=\"sk-item\"><div class=\"sk-estimator sk-toggleable\"><input class=\"sk-toggleable__control sk-hidden--visually\" id=\"sk-estimator-id-15\" type=\"checkbox\" ><label for=\"sk-estimator-id-15\" class=\"sk-toggleable__label sk-toggleable__label-arrow\">OrdinalEncoder</label><div class=\"sk-toggleable__content\"><pre>OrdinalEncoder(handle_unknown=&#x27;use_encoded_value&#x27;, unknown_value=-1)</pre></div></div></div></div></div></div></div></div></div></div><div class=\"sk-item\"><div class=\"sk-estimator sk-toggleable\"><input class=\"sk-toggleable__control sk-hidden--visually\" id=\"sk-estimator-id-16\" type=\"checkbox\" ><label for=\"sk-estimator-id-16\" class=\"sk-toggleable__label sk-toggleable__label-arrow\">RandomForestClassifier</label><div class=\"sk-toggleable__content\"><pre>RandomForestClassifier(n_jobs=-1, random_state=3142)</pre></div></div></div></div></div></div></div></div></div></div></div></div>"
      ],
      "text/plain": [
       "RandomizedSearchCV(cv=<generator object _BaseKFold.split at 0x7fe9bf5560b0>,\n",
       "                   estimator=Pipeline(steps=[('prep',\n",
       "                                              ColumnTransformer(transformers=[('num',\n",
       "                                                                               Pipeline(steps=[('scaler',\n",
       "                                                                                                StandardScaler())]),\n",
       "                                                                               Index(['innings', 'overs', 'balls', 'bat_0_runs', 'bat_1_runs', 'bat_2_runs',\n",
       "       'bat_3_runs', 'bat_4_runs', 'bat_6_runs', 'bat_num_dismissals',\n",
       "       'bat_wides', 'bat_total_ball...\n",
       "                                        'rf__max_depth': array([ 10,  20,  30,  40,  50,  60,  70,  80,  90, 100]),\n",
       "                                        'rf__max_features': ['log2', 'sqrt'],\n",
       "                                        'rf__max_samples': array([0.1, 0.2, 0.3, 0.4, 0.5, 0.6, 0.7, 0.8, 0.9, 1. ]),\n",
       "                                        'rf__min_samples_leaf': array([ 2,  5,  8, 11, 14, 17, 20, 23, 26, 30]),\n",
       "                                        'rf__min_samples_split': array([ 5,  7, 10, 13, 16, 18, 21, 24, 27, 30]),\n",
       "                                        'rf__n_estimators': array([ 200,  288,  377,  466,  555,  644,  733,  822,  911, 1000])},\n",
       "                   random_state=420)"
      ]
     },
     "execution_count": 40,
     "metadata": {},
     "output_type": "execute_result"
    }
   ],
   "source": [
    "model = 'RF'\n",
    "cv = TimeSeriesSplit(n_splits=5)\n",
    "rs=RandomizedSearchCV(pipe,params, n_iter = 50, n_jobs=-1,cv=cv.split(X_train, y_train),random_state=420)\n",
    "rs.fit(X_train, y_train)"
   ]
  },
  {
   "cell_type": "code",
   "execution_count": 39,
   "metadata": {},
   "outputs": [
    {
     "data": {
      "text/plain": [
       "0.008958089816454103"
      ]
     },
     "execution_count": 39,
     "metadata": {},
     "output_type": "execute_result"
    }
   ],
   "source": [
    "# predictions = rs_log.predict(X_test)\n",
    "# f1_score(y_test, predictions, average='weighted')"
   ]
  },
  {
   "cell_type": "code",
   "execution_count": 41,
   "metadata": {},
   "outputs": [],
   "source": [
    "predictions = rs.predict(X_test)\n",
    "wandb.summary[f'accuracy_test_{model}'] = accuracy_score(y_test, predictions)\n",
    "wandb.summary[f'f1_score_test_{model}'] = f1_score(y_test, predictions, average='weighted')\n",
    "wandb.summary[f'precision_test_{model}'] = precision_score(y_test, predictions, average='weighted')\n",
    "wandb.summary[f'recall_test_{model}'] = recall_score(y_test, predictions, average='weighted')"
   ]
  },
  {
   "cell_type": "code",
   "execution_count": 42,
   "metadata": {},
   "outputs": [
    {
     "data": {
      "text/html": [
       "Waiting for W&B process to finish... <strong style=\"color:green\">(success).</strong>"
      ],
      "text/plain": [
       "<IPython.core.display.HTML object>"
      ]
     },
     "metadata": {},
     "output_type": "display_data"
    },
    {
     "data": {
      "text/html": [
       "<style>\n",
       "    table.wandb td:nth-child(1) { padding: 0 10px; text-align: left ; width: auto;} td:nth-child(2) {text-align: left ; width: 100%}\n",
       "    .wandb-row { display: flex; flex-direction: row; flex-wrap: wrap; justify-content: flex-start; width: 100% }\n",
       "    .wandb-col { display: flex; flex-direction: column; flex-basis: 100%; flex: 1; padding: 10px; }\n",
       "    </style>\n",
       "<div class=\"wandb-row\"><div class=\"wandb-col\"><h3>Run summary:</h3><br/><table class=\"wandb\"><tr><td>accuracy_test_RF</td><td>0.36313</td></tr><tr><td>f1_score_test_RF</td><td>0.19347</td></tr><tr><td>precision_test_RF</td><td>0.13187</td></tr><tr><td>recall_test_RF</td><td>0.36313</td></tr></table><br/></div></div>"
      ],
      "text/plain": [
       "<IPython.core.display.HTML object>"
      ]
     },
     "metadata": {},
     "output_type": "display_data"
    },
    {
     "data": {
      "text/html": [
       "Synced <strong style=\"color:#cdcd00\">fresh-totem-17</strong>: <a href=\"https://wandb.ai/gsparsh/Dream11/runs/mtj5aynk\" target=\"_blank\">https://wandb.ai/gsparsh/Dream11/runs/mtj5aynk</a><br/>Synced 4 W&B file(s), 0 media file(s), 0 artifact file(s) and 0 other file(s)"
      ],
      "text/plain": [
       "<IPython.core.display.HTML object>"
      ]
     },
     "metadata": {},
     "output_type": "display_data"
    },
    {
     "data": {
      "text/html": [
       "Find logs at: <code>./wandb/run-20230330_154804-mtj5aynk/logs</code>"
      ],
      "text/plain": [
       "<IPython.core.display.HTML object>"
      ]
     },
     "metadata": {},
     "output_type": "display_data"
    }
   ],
   "source": [
    "run.finish()"
   ]
  },
  {
   "attachments": {},
   "cell_type": "markdown",
   "metadata": {},
   "source": [
    "Next Steps:\n",
    "1. Evaluate more classifiers (LGBM, XGBoost, Bagging, GBR, ExtraTrees) on the same dataset using StratifiedKFold, shuffle=True (in TTS)\n",
    "2. Repeat step-1 using TimeSeriesSplit, shuffle=False (in TTS)\n",
    "3. Use feature transformers (power, kbins, spline), repeat step-1,2\n",
    "4. create ensemble models from step-1,2 and evaluate\n",
    "5. create ensemble models using step-3 and evaluate\n",
    "6. create new target using (dots, runs, four, six, wicket labels) repeat step-1to5"
   ]
  },
  {
   "cell_type": "code",
   "execution_count": null,
   "metadata": {},
   "outputs": [],
   "source": []
  },
  {
   "cell_type": "code",
   "execution_count": null,
   "metadata": {},
   "outputs": [],
   "source": []
  }
 ],
 "metadata": {
  "kernelspec": {
   "display_name": "Python 3 (ipykernel)",
   "language": "python",
   "name": "python3"
  },
  "language_info": {
   "codemirror_mode": {
    "name": "ipython",
    "version": 3
   },
   "file_extension": ".py",
   "mimetype": "text/x-python",
   "name": "python",
   "nbconvert_exporter": "python",
   "pygments_lexer": "ipython3",
   "version": "3.11.0"
  },
  "orig_nbformat": 4
 },
 "nbformat": 4,
 "nbformat_minor": 2
}
