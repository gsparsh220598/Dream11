{
 "cells": [
  {
   "cell_type": "code",
   "execution_count": 1,
   "metadata": {},
   "outputs": [],
   "source": [
    "import os\n",
    "import pandas as pd\n",
    "import numpy as np\n",
    "import json"
   ]
  },
  {
   "cell_type": "code",
   "execution_count": null,
   "metadata": {},
   "outputs": [],
   "source": [
    "# A funtion to create the match state dictionary for each ball\n",
    "match_dict = read_data(path_csv, path_json)\n",
    "\n",
    "\n",
    "# pd.DataFrame(match_dict['335985'][1], index=[0])\n",
    "def removekeys(d, keys):\n",
    "    r = dict(d)\n",
    "    for key in keys:\n",
    "        try:\n",
    "            del r[key]\n",
    "        except:\n",
    "            pass\n",
    "    return r\n",
    "def get_match_feats(match_dict):\n",
    "    match_df = {}\n",
    "    player_df = {}\n",
    "    for match in match_dict:\n",
    "        match_feats = match_dict[match][1].copy()\n",
    "        if match_feats['toss_decision'] == 'bat':\n",
    "            if match_feats['toss_winner'] == match_feats['team_1']:\n",
    "                match_feats['batting_team'] = match_feats['team_1']\n",
    "                match_feats['bowling_team'] = match_feats['team_2']\n",
    "            else:\n",
    "                match_feats['batting_team'] = match_feats['team_2']\n",
    "                match_feats['bowling_team'] = match_feats['team_1']\n",
    "        else:\n",
    "            if match_feats['toss_winner'] == match_feats['team_1']:\n",
    "                match_feats['batting_team'] = match_feats['team_2']\n",
    "                match_feats['bowling_team'] = match_feats['team_1']\n",
    "            else:\n",
    "                match_feats['batting_team'] = match_feats['team_1']\n",
    "                match_feats['bowling_team'] = match_feats['team_2']\n",
    "        #remove unwanted features from match_feats\n",
    "        keys = ['match_type', 'winner', 'win_by_wickets','win_by_runs','team_1', 'team_2', 'toss_winner', 'toss_decision']\n",
    "        match_feats = removekeys(match_feats, keys)\n",
    "        match_df[match] = pd.DataFrame(match_feats, index=[0])\n",
    "    \n",
    "    return match_df\n"
   ]
  }
 ],
 "metadata": {
  "kernelspec": {
   "display_name": "Python 3",
   "language": "python",
   "name": "python3"
  },
  "language_info": {
   "codemirror_mode": {
    "name": "ipython",
    "version": 3
   },
   "file_extension": ".py",
   "mimetype": "text/x-python",
   "name": "python",
   "nbconvert_exporter": "python",
   "pygments_lexer": "ipython3",
   "version": "3.9.13"
  },
  "orig_nbformat": 4
 },
 "nbformat": 4,
 "nbformat_minor": 2
}
