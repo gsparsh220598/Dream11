{
 "cells": [
  {
   "cell_type": "code",
   "execution_count": 34,
   "metadata": {},
   "outputs": [],
   "source": [
    "import os\n",
    "import wandb\n",
    "import pandas as pd\n",
    "import numpy as np\n",
    "import json\n",
    "import warnings\n",
    "import utility as ut\n",
    "warnings.filterwarnings('ignore')"
   ]
  },
  {
   "cell_type": "code",
   "execution_count": 35,
   "metadata": {},
   "outputs": [
    {
     "data": {
      "text/html": [
       "Finishing last run (ID:ajvotzc9) before initializing another..."
      ],
      "text/plain": [
       "<IPython.core.display.HTML object>"
      ]
     },
     "metadata": {},
     "output_type": "display_data"
    },
    {
     "data": {
      "text/html": [
       "Waiting for W&B process to finish... <strong style=\"color:green\">(success).</strong>"
      ],
      "text/plain": [
       "<IPython.core.display.HTML object>"
      ]
     },
     "metadata": {},
     "output_type": "display_data"
    },
    {
     "data": {
      "application/vnd.jupyter.widget-view+json": {
       "model_id": "1a3ddeccdca149bfb674663491eb81b9",
       "version_major": 2,
       "version_minor": 0
      },
      "text/plain": [
       "VBox(children=(Label(value='0.001 MB of 0.012 MB uploaded (0.000 MB deduped)\\r'), FloatProgress(value=0.078239…"
      ]
     },
     "metadata": {},
     "output_type": "display_data"
    },
    {
     "data": {
      "text/html": [
       " View run <strong style=\"color:#cdcd00\">fancy-fog-3</strong> at: <a href=\"https://wandb.ai/gsparsh/Dream11/runs/ajvotzc9\" target=\"_blank\">https://wandb.ai/gsparsh/Dream11/runs/ajvotzc9</a><br/>Synced 5 W&B file(s), 0 media file(s), 0 artifact file(s) and 0 other file(s)"
      ],
      "text/plain": [
       "<IPython.core.display.HTML object>"
      ]
     },
     "metadata": {},
     "output_type": "display_data"
    },
    {
     "data": {
      "text/html": [
       "Find logs at: <code>./wandb/run-20230329_202150-ajvotzc9/logs</code>"
      ],
      "text/plain": [
       "<IPython.core.display.HTML object>"
      ]
     },
     "metadata": {},
     "output_type": "display_data"
    },
    {
     "data": {
      "text/html": [
       "Successfully finished last run (ID:ajvotzc9). Initializing new run:<br/>"
      ],
      "text/plain": [
       "<IPython.core.display.HTML object>"
      ]
     },
     "metadata": {},
     "output_type": "display_data"
    },
    {
     "data": {
      "application/vnd.jupyter.widget-view+json": {
       "model_id": "ab3acb36f93b4b7780ba028084a13259",
       "version_major": 2,
       "version_minor": 0
      },
      "text/plain": [
       "VBox(children=(Label(value='Waiting for wandb.init()...\\r'), FloatProgress(value=0.016752438883334737, max=1.0…"
      ]
     },
     "metadata": {},
     "output_type": "display_data"
    },
    {
     "data": {
      "text/html": [
       "wandb version 0.14.0 is available!  To upgrade, please run:\n",
       " $ pip install wandb --upgrade"
      ],
      "text/plain": [
       "<IPython.core.display.HTML object>"
      ]
     },
     "metadata": {},
     "output_type": "display_data"
    },
    {
     "data": {
      "text/html": [
       "Tracking run with wandb version 0.13.9"
      ],
      "text/plain": [
       "<IPython.core.display.HTML object>"
      ]
     },
     "metadata": {},
     "output_type": "display_data"
    },
    {
     "data": {
      "text/html": [
       "Run data is saved locally in <code>/Users/sparshgupta/Projects git/Dream11/Scripts/wandb/run-20230329_204040-n3f5k1g3</code>"
      ],
      "text/plain": [
       "<IPython.core.display.HTML object>"
      ]
     },
     "metadata": {},
     "output_type": "display_data"
    },
    {
     "data": {
      "text/html": [
       "Syncing run <strong><a href=\"https://wandb.ai/gsparsh/Dream11/runs/n3f5k1g3\" target=\"_blank\">silver-voice-4</a></strong> to <a href=\"https://wandb.ai/gsparsh/Dream11\" target=\"_blank\">Weights & Biases</a> (<a href=\"https://wandb.me/run\" target=\"_blank\">docs</a>)<br/>"
      ],
      "text/plain": [
       "<IPython.core.display.HTML object>"
      ]
     },
     "metadata": {},
     "output_type": "display_data"
    },
    {
     "data": {
      "text/html": [
       " View project at <a href=\"https://wandb.ai/gsparsh/Dream11\" target=\"_blank\">https://wandb.ai/gsparsh/Dream11</a>"
      ],
      "text/plain": [
       "<IPython.core.display.HTML object>"
      ]
     },
     "metadata": {},
     "output_type": "display_data"
    },
    {
     "data": {
      "text/html": [
       " View run at <a href=\"https://wandb.ai/gsparsh/Dream11/runs/n3f5k1g3\" target=\"_blank\">https://wandb.ai/gsparsh/Dream11/runs/n3f5k1g3</a>"
      ],
      "text/plain": [
       "<IPython.core.display.HTML object>"
      ]
     },
     "metadata": {},
     "output_type": "display_data"
    }
   ],
   "source": [
    "run = wandb.init(project=ut.PROJECT_NAME, entity=ut.ENTITY, job_type=\"Upload\")"
   ]
  },
  {
   "cell_type": "code",
   "execution_count": 45,
   "metadata": {},
   "outputs": [
    {
     "data": {
      "text/html": [
       "Waiting for W&B process to finish... <strong style=\"color:green\">(success).</strong>"
      ],
      "text/plain": [
       "<IPython.core.display.HTML object>"
      ]
     },
     "metadata": {},
     "output_type": "display_data"
    },
    {
     "data": {
      "text/html": [
       " View run <strong style=\"color:#cdcd00\">different-grass-5</strong> at: <a href=\"https://wandb.ai/gsparsh/Dream11/runs/tzxw3gh6\" target=\"_blank\">https://wandb.ai/gsparsh/Dream11/runs/tzxw3gh6</a><br/>Synced 5 W&B file(s), 0 media file(s), 1 artifact file(s) and 0 other file(s)"
      ],
      "text/plain": [
       "<IPython.core.display.HTML object>"
      ]
     },
     "metadata": {},
     "output_type": "display_data"
    },
    {
     "data": {
      "text/html": [
       "Find logs at: <code>./wandb/run-20230329_204302-tzxw3gh6/logs</code>"
      ],
      "text/plain": [
       "<IPython.core.display.HTML object>"
      ]
     },
     "metadata": {},
     "output_type": "display_data"
    }
   ],
   "source": [
    "path = '../Inputs/ball-by-ball prediction/'\n",
    "wandb.log_artifact(path+'clean_data.csv', name='clean_data', type='ball_by_ball_prediction')\n",
    "run.finish()"
   ]
  },
  {
   "cell_type": "code",
   "execution_count": 14,
   "metadata": {},
   "outputs": [],
   "source": [
    "clean_data = pd.read_csv(path+'clean_data.csv')"
   ]
  },
  {
   "cell_type": "code",
   "execution_count": 15,
   "metadata": {},
   "outputs": [],
   "source": [
    "def get_stats(df, till_date, typ=\"bowler\"):\n",
    "    # Get the data till the given date\n",
    "    df[\"start_date\"] = pd.to_datetime(df[\"start_date\"])\n",
    "    df = df[df[\"start_date\"] < till_date]\n",
    "\n",
    "    # Get the number of runs scored by each batsman\n",
    "    runs = df.groupby(typ)[\"runs_off_bat\"].value_counts().unstack(level=1)\n",
    "    runs = runs.dropna(axis=1, thresh=runs.shape[0] * 0.1).fillna(0)\n",
    "    runs.columns = [\"0_runs\", \"1_runs\", \"2_runs\", \"3_runs\", \"4_runs\", \"6_runs\"]\n",
    "\n",
    "    # Get the number of balls faced by each batsman\n",
    "    balls = pd.DataFrame(df.groupby(typ)[\"ball\"].count())\n",
    "\n",
    "    # Get the number of wides faced by each batsman\n",
    "    df.loc[:, \"wides\"] = (\n",
    "        df[\"wides\"].fillna(0).apply(lambda x: 0 if x == 0 else 1).tolist()\n",
    "    )\n",
    "    wides = pd.DataFrame(df.groupby(typ)[\"wides\"].sum())\n",
    "\n",
    "    # Get the number of dismissals faced by each batsman\n",
    "    dismissals = pd.DataFrame(\n",
    "        df.groupby(typ)[\"wicket_type\"].apply(lambda x: x.notna().sum())\n",
    "    ).rename(columns={\"wicket_type\": \"num_dismissals\"})\n",
    "\n",
    "    # Add the number of balls faced and the number of wides faced to get the total number of balls faced\n",
    "    balls[\"total_balls\"] = balls[\"ball\"] + wides[\"wides\"]\n",
    "    runs[\"0_runs\"] = runs[\"0_runs\"].subtract(dismissals[\"num_dismissals\"])\n",
    "\n",
    "    # Merge all the dataframes\n",
    "    stats = pd.concat([runs, dismissals, wides, balls[\"total_balls\"]], axis=1).fillna(0)\n",
    "    return stats.reset_index()\n",
    "\n",
    "def divide_data(cleandf):\n",
    "    # Divide the data into history, train, and test\n",
    "    temp = cleandf.sort_values(by=['start_date', 'innings', 'overs', 'balls']).copy()\n",
    "    train = temp.query('\"2016-01-01\" <= start_date < \"2022-01-01\"')\n",
    "    test = temp.query('start_date >= \"2022-01-01\"')\n",
    "    return train, test\n",
    "\n",
    "\n",
    "def merge_feats(train):\n",
    "    temp = train.copy()\n",
    "    temp = temp.sort_values(by=['start_date', 'innings', 'overs', 'balls'])\n",
    "    \n",
    "    unique_dates = temp['start_date'].unique().tolist()\n",
    "\n",
    "    train_dfs = [\n",
    "        temp[temp['start_date'] == date].merge(\n",
    "            get_stats(clean_data, date, 'striker').add_prefix('bat_'),\n",
    "            left_on='striker',\n",
    "            right_on='bat_striker',\n",
    "            how='left'\n",
    "        ).merge(\n",
    "            get_stats(clean_data, date, 'bowler').add_prefix('bowl_'),\n",
    "            left_on='bowler',\n",
    "            right_on='bowl_bowler',\n",
    "            how='left'\n",
    "        )\n",
    "        for date in unique_dates\n",
    "    ]\n",
    "    \n",
    "    newtrain = pd.concat(train_dfs)\n",
    "    newtrain = newtrain.sort_values(by=['start_date', 'innings', 'overs', 'balls'])\n",
    "    newtrain = newtrain.drop(['start_date', 'ball', 'extras','noballs','byes','legbyes', \\\n",
    "                            'player_dismissed', 'bat_striker', 'bowl_bowler'], axis=1)\n",
    "    \n",
    "    return newtrain\n",
    "\n",
    "def make_target(df):\n",
    "    cleandf = df.copy()\n",
    "    create_y = cleandf[['runs_off_bat', 'wides', 'wicket_type']].fillna('none')\n",
    "    \n",
    "    def create_labels(row):\n",
    "        if row['wicket_type'] != 'none':\n",
    "            return \"Wicket\"\n",
    "        elif row['runs_off_bat'] == 0:\n",
    "            return \"0_runs\"\n",
    "        elif row['runs_off_bat'] == 1:\n",
    "            return \"1_runs\"\n",
    "        elif row['runs_off_bat'] == 2:\n",
    "            return \"2_runs\"\n",
    "        elif row['runs_off_bat'] == 3:\n",
    "            return \"3_runs\"\n",
    "        elif row['runs_off_bat'] == 4 or row['runs_off_bat'] == 5:\n",
    "            return \"4_runs\"\n",
    "        elif row['runs_off_bat'] == 6 or row['runs_off_bat'] == 7:\n",
    "            return \"6_runs\"\n",
    "        elif row['wides'] != 'none':\n",
    "            return \"Wide\"\n",
    "        else:\n",
    "            raise ValueError('Error in creating y, check the data')\n",
    "    \n",
    "    cleandf['target'] = create_y.apply(create_labels, axis=1)\n",
    "    cleandf = cleandf.drop(['runs_off_bat', 'wides', 'wicket_type'], axis=1)\n",
    "    return cleandf.fillna(0.0)\n",
    "\n",
    "#slow takes 13 mins\n",
    "def make_features(clean_data):\n",
    "    train1, test1 = divide_data(clean_data)\n",
    "    train2, test2 = merge_feats(train1), merge_feats(test1)\n",
    "    del train1, test1\n",
    "    train, test = make_target(train2), make_target(test2)\n",
    "    del train2, test2\n",
    "    return train, test"
   ]
  },
  {
   "cell_type": "code",
   "execution_count": 53,
   "metadata": {},
   "outputs": [
    {
     "data": {
      "text/html": [
       "wandb version 0.14.0 is available!  To upgrade, please run:\n",
       " $ pip install wandb --upgrade"
      ],
      "text/plain": [
       "<IPython.core.display.HTML object>"
      ]
     },
     "metadata": {},
     "output_type": "display_data"
    },
    {
     "data": {
      "text/html": [
       "Tracking run with wandb version 0.13.9"
      ],
      "text/plain": [
       "<IPython.core.display.HTML object>"
      ]
     },
     "metadata": {},
     "output_type": "display_data"
    },
    {
     "data": {
      "text/html": [
       "Run data is saved locally in <code>/Users/sparshgupta/Projects git/Dream11/Scripts/wandb/run-20230329_205124-op3b48bn</code>"
      ],
      "text/plain": [
       "<IPython.core.display.HTML object>"
      ]
     },
     "metadata": {},
     "output_type": "display_data"
    },
    {
     "data": {
      "text/html": [
       "Syncing run <strong><a href=\"https://wandb.ai/gsparsh/Dream11/runs/op3b48bn\" target=\"_blank\">radiant-bush-8</a></strong> to <a href=\"https://wandb.ai/gsparsh/Dream11\" target=\"_blank\">Weights & Biases</a> (<a href=\"https://wandb.me/run\" target=\"_blank\">docs</a>)<br/>"
      ],
      "text/plain": [
       "<IPython.core.display.HTML object>"
      ]
     },
     "metadata": {},
     "output_type": "display_data"
    },
    {
     "data": {
      "text/html": [
       " View project at <a href=\"https://wandb.ai/gsparsh/Dream11\" target=\"_blank\">https://wandb.ai/gsparsh/Dream11</a>"
      ],
      "text/plain": [
       "<IPython.core.display.HTML object>"
      ]
     },
     "metadata": {},
     "output_type": "display_data"
    },
    {
     "data": {
      "text/html": [
       " View run at <a href=\"https://wandb.ai/gsparsh/Dream11/runs/op3b48bn\" target=\"_blank\">https://wandb.ai/gsparsh/Dream11/runs/op3b48bn</a>"
      ],
      "text/plain": [
       "<IPython.core.display.HTML object>"
      ]
     },
     "metadata": {},
     "output_type": "display_data"
    }
   ],
   "source": [
    "run = wandb.init(project=ut.PROJECT_NAME, entity=ut.ENTITY, job_type=\"upload\")"
   ]
  },
  {
   "cell_type": "code",
   "execution_count": 18,
   "metadata": {},
   "outputs": [],
   "source": [
    "clean_data.sort_values(by=['start_date', 'innings', 'overs', 'balls'], inplace=True)"
   ]
  },
  {
   "cell_type": "code",
   "execution_count": 23,
   "metadata": {},
   "outputs": [],
   "source": [
    "def get_player_dict():\n",
    "    player_dict = {}\n",
    "    kinds = [\"ipl\", \"t20s\"]\n",
    "    for kind in kinds:\n",
    "        path_json = f\"../Inputs/{kind}_json\"\n",
    "        json_files = [\n",
    "            pos_json for pos_json in os.listdir(path_json) if pos_json.endswith(\".json\")\n",
    "        ]\n",
    "\n",
    "        for file in json_files:\n",
    "            with open(os.path.join(path_json, file)) as json_file:\n",
    "                json_data = json.load(json_file)\n",
    "                for key, val in json_data[\"info\"][\"registry\"][\"people\"].items():\n",
    "                    player_dict[val] = key\n",
    "    return player_dict\n",
    "\n",
    "player_dict = get_player_dict()"
   ]
  },
  {
   "cell_type": "code",
   "execution_count": 28,
   "metadata": {},
   "outputs": [
    {
     "data": {
      "text/plain": [
       "{'5b040b81': 'A Singh',\n",
       " '883e3818': 'AM Saheba',\n",
       " 'c69a7b5c': 'AS Raut',\n",
       " 'cb4b3ab0': 'GAV Baxter',\n",
       " '72861603': 'GC Smith',\n",
       " '323e4c16': 'HDPK Dharmasena',\n",
       " 'bad31fac': 'J Srinath',\n",
       " 'c3d35165': 'JA Morkel',\n",
       " '3eac9d95': 'JDP Oram',\n",
       " 'bda8cca8': 'KH Hurter',\n",
       " 'b2b50355': 'L Balaji',\n",
       " 'd872f52a': 'LA Carseldine',\n",
       " '4ba44e19': 'M Muralitharan',\n",
       " '4b57e452': 'M Vijay',\n",
       " 'd8699ab7': 'ML Hayden',\n",
       " '4a8a2e3b': 'MS Dhoni',\n",
       " '890946a0': 'NV Ojha',\n",
       " 'fe93fd9d': 'RA Jadeja',\n",
       " '3576e47e': 'S Badrinath',\n",
       " 'c24a2c5d': 'S Tyagi',\n",
       " 'ae091d39': 'SA Asnodkar',\n",
       " 'c8179c68': 'SB Jakati',\n",
       " '1dc12ab9': 'SK Raina',\n",
       " '3d7e087f': 'SK Trivedi',\n",
       " 'bb18be76': 'SK Warne',\n",
       " '63bff7f9': 'SM Harwood',\n",
       " '3c6ffae8': 'YK Pathan',\n",
       " 'acdc62f5': 'A Nortje',\n",
       " 'fdcc6236': 'AK Chaudhary',\n",
       " '2e171977': 'AR Patel',\n",
       " 'eef2536f': 'Avesh Khan',\n",
       " 'dbe50b21': 'HH Pandya',\n",
       " '81049310': 'J Yadav',\n",
       " '462411b3': 'JJ Bumrah',\n",
       " 'e62dd25d': 'K Rabada',\n",
       " 'a757b0d8': 'KA Pollard',\n",
       " '5b8c830e': 'KH Pandya',\n",
       " '76752ac8': 'MA Gough',\n",
       " '56ab442f': 'NM Coulter-Nile',\n",
       " 'a3e3d8a4': 'Navdeep Singh',\n",
       " 'e1d41d9e': 'Nitin Menon',\n",
       " '8b3e9c7c': 'PP Shaw',\n",
       " '372455c4': 'Q de Kock',\n",
       " '495d42a5': 'R Ashwin',\n",
       " '740742ef': 'RG Sharma',\n",
       " '919a3be2': 'RR Pant',\n",
       " '0a476045': 'S Dhawan',\n",
       " '271f83cd': 'SA Yadav',\n",
       " '48a1d7b7': 'SO Hetmyer',\n",
       " '30a45b23': 'SPD Smith',\n",
       " '85ec8e33': 'SS Iyer',\n",
       " '709b0bac': 'SS Tiwary',\n",
       " 'a818c1be': 'TA Boult',\n",
       " '96fd40ae': 'A Nehra',\n",
       " '70d205c9': 'AT Rayudu',\n",
       " '012de9c4': 'CK Nandan',\n",
       " '87e562a9': 'DJ Bravo',\n",
       " '35205dfc': 'DR Smith',\n",
       " '3355b542': 'F du Plessis',\n",
       " '8b5b6769': 'Harbhajan Singh',\n",
       " '4125d931': 'J Suchith',\n",
       " '89f64c19': 'LMP Simmons',\n",
       " '48fd7349': 'MEK Hussey',\n",
       " '51a3c5ef': 'MJ McClenaghan',\n",
       " '759ac88f': 'MM Sharma',\n",
       " 'f62772e5': 'P Negi',\n",
       " 'b5da6c24': 'PA Patel',\n",
       " '41eb4a4f': 'R Vinay Kumar',\n",
       " '20672246': 'RK Illingworth',\n",
       " '766b5798': 'RS Madugalle',\n",
       " 'a12e1d51': 'SL Malinga',\n",
       " '0c94f480': 'UBT Chand',\n",
       " '8fe0c4f8': 'VA Kulkarni',\n",
       " '6b19d823': 'A Mishra',\n",
       " 'bde6e9ef': 'AV Jayaprakash',\n",
       " '26457e41': 'BG Jerling',\n",
       " '5b445db0': 'CH Lloyd',\n",
       " 'd18f9182': 'DPMD Jayawardene',\n",
       " 'bb345e0b': 'G Gambhir',\n",
       " 'ee7d0c82': 'GD McGrath',\n",
       " '5fa06777': 'IK Pathan',\n",
       " '2498e163': 'JR Hopes',\n",
       " 'c03f1114': 'KD Karthik',\n",
       " 'b63ab531': 'LA Pomersbach',\n",
       " 'ab89348d': 'MF Maharoof',\n",
       " '9fc0ef64': 'PJ Sangwan',\n",
       " '98ae73b1': 'PP Chawla',\n",
       " '33a364a6': 'R Bhatia',\n",
       " '0265fab2': 'RE Koertzen',\n",
       " '5d096f3d': 'RR Powar',\n",
       " '6b8eb6e5': 'S Sreesanth',\n",
       " '508a1ea7': 'SE Marsh',\n",
       " '64c34cd0': 'Shoaib Malik',\n",
       " '5bdcdb72': 'TM Dilshan',\n",
       " '622cc511': 'U Kaul',\n",
       " '8ba8195d': 'V Sehwag',\n",
       " '034b4b7d': 'VRV Singh',\n",
       " '1c914163': 'Yuvraj Singh',\n",
       " '29d72eb2': 'AA Chavan',\n",
       " '8291f939': 'AL Menaria',\n",
       " '29e95537': 'AM Rahane',\n",
       " 'b8a55852': 'BB McCullum',\n",
       " 'b57f8a9a': 'BJ Hodge',\n",
       " 'c15e2193': 'FY Fazal',\n",
       " 'e6ef687d': 'NA Patwardhan',\n",
       " '6ec424a9': 'ND Doshi',\n",
       " '7bf96684': 'OA Shah',\n",
       " '0c432afb': 'P Parameswaran',\n",
       " 'ddb00822': 'P Prasanth',\n",
       " 'c9354f29': 'PR Reiffel',\n",
       " '0aadc906': 'PR Shah',\n",
       " '0184dc35': 'R Dravid',\n",
       " '38810cfc': 'RJ Tucker',\n",
       " 'c3d1402f': 'RP Singh',\n",
       " '57910393': 'RS Mahanama',\n",
       " 'b04524bc': 'S Asnani',\n",
       " '4329fbb5': 'SR Watson',\n",
       " 'addfb70e': 'SW Tait',\n",
       " 'bae11797': 'Y Gnaneswara Rao',\n",
       " 'c4487b84': 'AB de Villiers',\n",
       " 'bbd41817': 'AD Russell',\n",
       " '685d3f80': 'AJ Pycroft',\n",
       " 'c1add349': 'BNJ Oxenford',\n",
       " '0f9d921b': 'C Shamshuddin',\n",
       " 'db584dad': 'CH Gayle',\n",
       " 'dcce6f09': 'DA Warner',\n",
       " 'f986ca1a': 'HV Patel',\n",
       " 'b61a3e1a': 'LRPL Taylor',\n",
       " '00ea847a': 'MA Agarwal',\n",
       " '3de870ce': 'R Risodkar',\n",
       " 'cc1e8c68': 'UT Yadav',\n",
       " 'ba607b88': 'V Kohli',\n",
       " '0a3d54b9': 'VR Aaron',\n",
       " 'fe763256': 'Y Venugopal Rao',\n",
       " '91a4a398': 'Z Khan',\n",
       " '2e11c706': 'BCJ Cutting',\n",
       " 'ff8c3cfb': 'BK Ravi',\n",
       " 'c995d726': 'CA Ingram',\n",
       " '5bb1a1c4': 'I Sharma',\n",
       " '75224f22': 'KMA Paul',\n",
       " 'b7bccddb': 'M Nayyar',\n",
       " '39a2dfa8': 'R Tewatia',\n",
       " 'b8527c3d': 'Rasikh Salam',\n",
       " '9b9ee0df': 'S Ravi',\n",
       " 'b90f3346': 'YC Barde',\n",
       " '0890552f': 'A Manohar',\n",
       " '6a26221c': 'AK Markram',\n",
       " 'b0946605': 'AS Joseph',\n",
       " 'f29185a1': 'Abhishek Sharma',\n",
       " '2e81a32d': 'B Kumar',\n",
       " 'd5ac41d8': 'CB Gaffaney',\n",
       " 'd67d5f00': 'DA Miller',\n",
       " '0be62e31': 'GR Sadashiv Iyer',\n",
       " '8275b04a': 'J Madanagopal',\n",
       " 'd027ba9f': 'KS Williamson',\n",
       " '2f9d0389': 'LH Ferguson',\n",
       " '81c36ee9': 'M Jansen',\n",
       " '8cf9814c': 'Mohammed Shami',\n",
       " '3241e3fd': 'N Pooran',\n",
       " '77255a9e': 'RA Tripathi',\n",
       " '5f547c8b': 'Rashid Khan',\n",
       " 'eb90d319': 'Shakti Singh',\n",
       " '26989d80': 'Shashank Singh',\n",
       " 'b4b99816': 'Shubman Gill',\n",
       " 'ce794613': 'T Natarajan',\n",
       " '81c08fa3': 'Umran Malik',\n",
       " 'fe11caa6': 'WP Saha',\n",
       " 'f19ccfad': 'Washington Sundar',\n",
       " '7210d461': 'Yash Dayal',\n",
       " '24d94623': 'Ankit Sharma',\n",
       " 'b681e71e': 'GJ Maxwell',\n",
       " 'a9da7784': 'KJ Abbott',\n",
       " '39f01cdb': 'KP Pietersen',\n",
       " 'e2db2409': 'M Ashwin',\n",
       " 'c03e2850': 'M Vohra',\n",
       " '0f12f9df': 'NLTC Perera',\n",
       " '9a0146b3': 'P Sahu',\n",
       " 'ce820073': 'Sandeep Sharma',\n",
       " '244048f6': 'Arshdeep Singh',\n",
       " '871e9faf': 'Basil Thampi',\n",
       " '844e79d1': 'D Brevis',\n",
       " '752f7486': 'Ishan Kishan',\n",
       " '1e66c162': 'JD Unadkat',\n",
       " 'abb83e27': 'JM Bairstow',\n",
       " '800d2d97': 'JM Sharma',\n",
       " '3144063a': 'KN Ananthapadmanabhan',\n",
       " '50c6bc2b': 'LS Livingstone',\n",
       " '7dcb9bc9': 'M Shahrukh Khan',\n",
       " '54b6007b': 'MV Saidharshan Kumar',\n",
       " '23cca426': 'OF Smith',\n",
       " '2ed569a0': 'RD Chahar',\n",
       " '245c97cb': 'TS Mills',\n",
       " 'b0482a1d': 'Tilak Varma',\n",
       " '43dd4011': 'UV Gandhe',\n",
       " '4bacee3d': 'V Narayan Kutty',\n",
       " '7c3b3b78': 'VG Arora',\n",
       " 'a45a5e8d': 'AM Nayar',\n",
       " 'efc0a862': 'BF Bowden',\n",
       " '0ec08b27': 'DJ Harper',\n",
       " 'd2a989fc': 'DS Kulkarni',\n",
       " '6529ee42': 'FM Engineer',\n",
       " 'cf7c5778': 'GA Pratapkumar',\n",
       " '9f961c14': 'Joginder Sharma',\n",
       " '0fa5042b': 'L Ronchi',\n",
       " '0d232ffd': 'MA Khote',\n",
       " 'ae78bc32': 'MS Gony',\n",
       " '6ad3a659': 'P Amarnath',\n",
       " '1c17e270': 'RV Uthappa',\n",
       " '88fccd6c': 'SM Pollock',\n",
       " 'f233bbb4': 'ST Jayasuriya',\n",
       " '38f2c66c': 'VS Yeligati',\n",
       " 'f3171936': 'BW Hilfenhaus',\n",
       " '8e088dbc': 'GF Labrooy',\n",
       " 'e0407c01': 'IC Pandey',\n",
       " '808f425a': 'JP Faulkner',\n",
       " '042a8b69': 'K Srinivasan',\n",
       " 'c42aaf71': 'M Manhas',\n",
       " '6aed7e79': 'PV Tambe',\n",
       " 'bd17b45f': 'STR Binny',\n",
       " 'a4cc73aa': 'SV Samson',\n",
       " '13c35c9e': 'TG Southee',\n",
       " 'e249fdaa': 'A Chopra',\n",
       " '66b30f71': 'AB Dinda',\n",
       " '8b4c4069': 'D Govindjee',\n",
       " '3f2996c9': 'EC Hendrikse',\n",
       " 'a1f1829d': 'K Goel',\n",
       " '6b71e6cf': 'KC Sangakkara',\n",
       " 'b1451597': 'LR Shukla',\n",
       " 'abfeb126': 'M Kartik',\n",
       " '32198ae0': 'MC Henriques',\n",
       " '7ca5e05d': 'RS Bopara',\n",
       " '725529bc': 'SC Ganguly',\n",
       " '369c85c1': 'SD Ranade',\n",
       " '40caa465': 'T Kohli',\n",
       " '6a6be119': 'TH Wijewardene',\n",
       " '5f26df4f': 'VS Malik',\n",
       " '4353bba5': 'YA Abdulla',\n",
       " '297b26da': 'Yashpal Singh',\n",
       " 'fa463154': 'AB Agarkar',\n",
       " '94eac556': 'CJ McKay',\n",
       " 'a84468fe': 'DJ Jacobs',\n",
       " '5bb5a915': 'M Morkel',\n",
       " 'f0f628c7': 'MM Patel',\n",
       " '9f772ec5': 'PG Pathak',\n",
       " '6c6591ab': 'PP Ojha',\n",
       " '18c78b11': 'RE Levi',\n",
       " '9d80c5e1': 'S Nadeem',\n",
       " '62a824b4': 'SK Tarapore',\n",
       " '662c47a6': 'Y Nagar',\n",
       " '2c25d4f5': 'D Padikkal',\n",
       " 'eade4650': 'DJ Mitchell',\n",
       " 'caf69bf7': 'DR Sams',\n",
       " '0c9652b0': 'HR Shokeen',\n",
       " '99b75528': 'JC Buttler',\n",
       " 'f6d8a7ab': 'K Kartikeya',\n",
       " '2e78f685': 'KR Sen',\n",
       " '85e0cf10': 'M Prasidh Krishna',\n",
       " '04a418e8': 'R Parag',\n",
       " '64775749': 'RP Meredith',\n",
       " 'f1f99156': 'TH David',\n",
       " 'b9aa2b6e': 'Tapan Sharma',\n",
       " '57ee1fde': 'YS Chahal',\n",
       " 'f02778d1': 'Aleem Dar',\n",
       " '9219eff0': 'JDS Neesham',\n",
       " '2e8994e7': 'JP Duminy',\n",
       " '7e47c743': 'K Bharatan',\n",
       " '3fb19989': 'MA Starc',\n",
       " '26e5cabf': 'MK Tiwary',\n",
       " '44afbf2d': 'NJ Maddinson',\n",
       " '5d9a1a73': 'R Sharma',\n",
       " '90edaaa9': 'S Rana',\n",
       " '3a60e0b5': 'WD Parnell',\n",
       " '3edb58fc': 'AD Mascarenhas',\n",
       " '69be866a': 'Anureet Singh',\n",
       " 'ea0cdc12': 'BAW Mendis',\n",
       " '9333bc07': 'GR Viswanath',\n",
       " '6ef60d3a': 'Kamran Khan',\n",
       " '15d3c895': 'M Erasmus',\n",
       " 'de8d3876': 'M Rawat',\n",
       " '790e14d3': 'MR Benson',\n",
       " '25eeb281': 'PC Valthaty',\n",
       " '23ac69e6': 'RJ Quiney',\n",
       " '0604ef16': 'SB Bangar',\n",
       " 'dd09ff8e': 'B Lee',\n",
       " 'd2a6c0e6': 'EJG Morgan',\n",
       " '85aae393': 'Iqbal Abdulla',\n",
       " '86dc8f2e': 'JH Kallis',\n",
       " '99d63244': 'KM Jadhav',\n",
       " '5afd4539': 'MS Bisla',\n",
       " '89087a0d': 'RB Tiffin',\n",
       " 'b2570b38': 'RV Gomez',\n",
       " '475e38b6': 'S Das',\n",
       " '166e5081': 'SS Hazare',\n",
       " '7dc35884': 'Shakib Al Hasan',\n",
       " '73ad96ed': 'DJ Hooda',\n",
       " 'dec8e038': 'J Theron',\n",
       " '944533a5': 'KK Nair',\n",
       " 'b552a935': 'AC Thomas',\n",
       " '896d78ad': 'AD Mathews',\n",
       " '861606b7': 'Asad Rauf',\n",
       " '91ffa6c6': 'JD Ryder',\n",
       " '93b4fc78': 'MK Pandey',\n",
       " 'f1375866': 'S Dua',\n",
       " 'bff458c6': 'AA Bilakhia',\n",
       " '2b6e6dec': 'AC Gilchrist',\n",
       " 'd7c6af50': 'DL Vettori',\n",
       " 'c404f58a': 'DP Nannes',\n",
       " 'a7c226e1': 'FH Edwards',\n",
       " 'e1d1b294': 'HH Gibbs',\n",
       " 'b0419f8c': 'JD Cloete',\n",
       " '8a668774': 'Shoaib Ahmed',\n",
       " 'aaa1b522': 'TL Suman',\n",
       " '1558d83b': 'GS Sandhu',\n",
       " '7d2a4250': 'RM Deshpande',\n",
       " '350bb1b1': 'AF Milne',\n",
       " '2efc430e': 'AY Dandekar',\n",
       " '1399b39c': 'Anmolpreet Singh',\n",
       " '23eeb873': 'DL Chahar',\n",
       " '03806cf8': 'JR Hazlewood',\n",
       " '90de905a': 'K Gowtham',\n",
       " 'bb351c23': 'MM Ali',\n",
       " '45a43fe2': 'RD Gaikwad',\n",
       " '1abb78f8': 'SN Thakur',\n",
       " '0c2730df': 'A Kumble',\n",
       " 'b9be6507': 'AS Yadav',\n",
       " '5451a2c1': 'B Chipli',\n",
       " 'cbebf805': 'BR Doctrove',\n",
       " 'acd4f5dc': 'DP Vijaykumar',\n",
       " '8fd1a8f5': 'DW Steyn',\n",
       " 'f3cb53a1': 'MV Boucher',\n",
       " '7eae4418': 'Misbah-ul-Haq',\n",
       " 'e938e1bc': 'P Kumar',\n",
       " '57efa3be': 'SB Styris',\n",
       " '53ef012d': 'SL Shastri',\n",
       " '0dc00542': 'Shahid Afridi',\n",
       " '1df4131e': 'Talat Ali',\n",
       " 'de8cce37': 'VVS Laxman',\n",
       " '619aa81f': 'W Jaffer',\n",
       " '05c2ca46': 'RE van der Merwe',\n",
       " '95a2ea61': 'S Anirudha',\n",
       " '1c2a64cd': 'A Ashish Reddy',\n",
       " '6fda55cc': 'A Deshmukh',\n",
       " 'd8b2f218': 'BB Sran',\n",
       " 'c18496e1': 'Bipul Sharma',\n",
       " '2be41edb': 'MJ Guptill',\n",
       " '0a8fce53': 'Mustafizur Rahman',\n",
       " 'a7a49df4': 'VK Sharma',\n",
       " '872b03f7': 'A Badoni',\n",
       " '7c7d63a2': 'AJ Tye',\n",
       " '11614d87': 'D Pretorius',\n",
       " '0ebfb1ad': 'E Lewis',\n",
       " 'b17e2f24': 'KL Rahul',\n",
       " '765a4731': 'Mukesh Choudhary',\n",
       " '327b58d3': 'PVD Chameera',\n",
       " 'df064e1a': 'Ravi Bishnoi',\n",
       " 'a4e37e47': 'S Dube',\n",
       " '46a9bea1': 'TU Deshpande',\n",
       " '84424f4f': 'A Nand Kishore',\n",
       " 'ff1e12a0': 'AJ Turner',\n",
       " 'e087956b': 'BA Stokes',\n",
       " 'fb66ce1f': 'CH Morris',\n",
       " '5574750c': 'JC Archer',\n",
       " '8ab5da97': 'K Srinath',\n",
       " '7a8bd078': 'S Gopal',\n",
       " 'd014d5ac': 'SE Rutherford',\n",
       " '45eda7c8': 'CA Lynn',\n",
       " 'd4f9dbd4': 'CA Pujara',\n",
       " '5056011d': 'GJ Bailey',\n",
       " 'f5180fe6': 'MG Johnson',\n",
       " '26a85969': 'R Dhawan',\n",
       " '9d430b40': 'SP Narine',\n",
       " '94d7f855': 'C de Grandhomme',\n",
       " 'a9fd84fb': 'M Markande',\n",
       " '2f49c897': 'Mohammed Siraj',\n",
       " '21d4e29b': 'Navdeep Saini',\n",
       " '18e6906e': 'A Choudhary',\n",
       " 'ffe699c0': 'CJ Jordan',\n",
       " 'c3a96caf': 'Mandeep Singh',\n",
       " '4947c258': 'N Pandit',\n",
       " '573fb985': 'NJ Llong',\n",
       " '957532de': 'S Aravind',\n",
       " 'dc9dd038': 'Sachin Baby',\n",
       " '12b610c2': 'TM Head',\n",
       " 'e9c7f0d0': 'Fazalhaq Farooqi',\n",
       " 'c05edf8e': 'Harpreet Brar',\n",
       " '9eb1455b': 'NT Ellis',\n",
       " 'bb965e9a': 'PK Garg',\n",
       " '663b5e34': 'PN Mankad',\n",
       " 'c5aef772': 'R Shepherd',\n",
       " 'db31895a': 'AS Rajpoot',\n",
       " '9a158001': 'Azhar Mahmood',\n",
       " 'fd835ab3': 'DJ Hussey',\n",
       " '6eb146d2': 'Gurkeerat Singh',\n",
       " '1a0c3177': 'P Awana',\n",
       " '626c5379': 'R Sathish',\n",
       " '12eddf28': 'RJ Harris',\n",
       " '5b7ab5a9': 'CV Varun',\n",
       " 'b4f5c2d9': 'KL Nagarkoti',\n",
       " '5d2eea49': 'Kartik Tyagi',\n",
       " 'fb2d1dda': 'N Rana',\n",
       " 'ded9240e': 'PJ Cummins',\n",
       " 'c38d3503': 'Shivam Mavi',\n",
       " '62af8546': 'Mohammad Nabi',\n",
       " 'dcf81436': 'S Kaul',\n",
       " 'aa8d28ae': 'D Wiese',\n",
       " 'cad00a4d': 'RR Rossouw',\n",
       " 'f088b960': 'SN Khan',\n",
       " '063b3673': 'DH Yagnik',\n",
       " '28c78fb3': 'Harpreet Singh',\n",
       " '7c503806': 'J Botha',\n",
       " '4180d897': 'JE Taylor',\n",
       " '5673a3fc': 'NL McCullum',\n",
       " '7c32b886': 'R Subramanian',\n",
       " '4b43d5ac': 'SJA Taufel',\n",
       " '2815fe50': 'AA Jhunjhunwala',\n",
       " '45c2196c': 'DE Bollinger',\n",
       " '11df3dc8': 'MJ Lumb',\n",
       " '287686fd': 'S Narwal',\n",
       " 'dddca1d6': 'SB Wagh',\n",
       " 'ad427b5c': 'Lalit Yadav',\n",
       " 'd9273ee7': 'MP Stoinis',\n",
       " 'f848ab0b': 'Prakash Bhatt',\n",
       " 'f834dcfc': 'L Ngidi',\n",
       " 'b410bd3d': 'S Lamichhane',\n",
       " 'c16d4035': 'SW Billings',\n",
       " '0994d0ae': 'V Shankar',\n",
       " '53f27a35': 'BB Samantray',\n",
       " 'd0513f63': 'CL White',\n",
       " '39f82db3': 'DJ Harris',\n",
       " 'f842c2cf': 'MJ Clarke',\n",
       " 'f846de6a': 'MN Samuels',\n",
       " 'd718440b': 'V Pratap Singh',\n",
       " '2af1b6d2': 'AN Ahmed',\n",
       " '7050a1e7': 'DB Das',\n",
       " 'c654af19': 'R McLaren',\n",
       " 'd2c2b2d5': 'SR Tendulkar',\n",
       " 'ffead9c2': 'A Chaudhary',\n",
       " 'bd77eb62': 'A Symonds',\n",
       " 'f4f0fafd': 'B Sumanth',\n",
       " '2a72fd4f': 'Harmeet Singh',\n",
       " '6afb26d6': 'MD Mishra',\n",
       " '3d8feaf8': 'MR Marsh',\n",
       " 'a386e91b': 'PD Collingwood',\n",
       " '12453319': 'S Venkataraghavan',\n",
       " 'bcce309e': 'WPUJC Vaas',\n",
       " 'cfad138c': 'CK Kapugedera',\n",
       " '7d3937ed': 'DJ Thornely',\n",
       " '5f4e9e8f': 'RR Raje',\n",
       " '756389bd': 'S Vidyut',\n",
       " 'eea6b7f1': 'SP Fleming',\n",
       " '4e04666c': 'YV Takawale',\n",
       " '9b4935c8': 'CJ Ferguson',\n",
       " '4ec07775': 'RN ten Doeschate',\n",
       " '541f85c9': 'SP Goswami',\n",
       " 'b8d490fd': 'AJ Finch',\n",
       " '99ed60f8': 'JPR Scantlebury-Searles',\n",
       " '8d2c70ad': 'Kuldeep Yadav',\n",
       " '7d92277a': 'Mujeeb Ur Rahman',\n",
       " '2a2e6343': 'DT Christian',\n",
       " '7daedf2f': 'KB Arun Karthik',\n",
       " '7d415ea5': 'RT Ponting',\n",
       " 'b2a79f17': 'B Laughlin',\n",
       " 'cedc1d9a': 'P Suyal',\n",
       " 'afa7e784': 'MS Wade',\n",
       " '529eb9e0': 'OC McCoy',\n",
       " 'c7a995d3': 'R Sai Kishore',\n",
       " '6c19c6e5': 'YBK Jaiswal',\n",
       " 'f10e94c4': 'AD Nath',\n",
       " '83250fea': 'Chinmay Sharma',\n",
       " 'e798611a': 'HM Amla',\n",
       " 'edb3d4f8': 'KC Cariappa',\n",
       " 'b822e99c': 'NB Singh',\n",
       " '8a604384': 'R Pandit',\n",
       " 'b51f72a5': 'SS Agarwal',\n",
       " 'c03c6200': 'DJG Sammy',\n",
       " '119678fd': 'KV Sharma',\n",
       " 'e94915e6': 'SM Curran',\n",
       " '855a210c': 'AP Tare',\n",
       " 'aedc3b7c': 'NS Naik',\n",
       " 'b1d7d7bc': 'A Totre',\n",
       " 'da934ee8': 'MK Lomror',\n",
       " 'a97c8ec2': 'PWH de Silva',\n",
       " 'c740ea83': 'RM Patidar',\n",
       " 'f9e6e7ef': 'Shahbaz Ahmed',\n",
       " '1647bd37': 'Karanveer Singh',\n",
       " '7f048519': 'DJ Willey',\n",
       " 'faa7365d': 'DR Shorey',\n",
       " '19b9f399': 'CJ Green',\n",
       " 'dfc4d8b5': 'KW Richardson',\n",
       " '557153ca': 'KK Cooper',\n",
       " 'b7cad41f': 'PK Khakhar',\n",
       " 'e79a1fe3': 'DC Boon',\n",
       " '6581d753': 'JM Kemp',\n",
       " '2386ccff': 'K Hariharan',\n",
       " 'd84378a4': 'M Kaif',\n",
       " '2049f3a0': 'SJ Srivastava',\n",
       " 'e84ac20c': 'MJ Henry',\n",
       " '30e37810': 'Sunny Singh',\n",
       " 'dc4686e6': 'BA Bhatt',\n",
       " '7a3244b5': 'Raju Mukherjee',\n",
       " '4c5d73db': 'CR Woakes',\n",
       " '76388dc8': 'S Badree',\n",
       " 'acc1aeda': 'SP Jackson',\n",
       " 'a3ecf01f': 'RS Sodhi',\n",
       " '8abdf100': 'CJ Anderson',\n",
       " 'b720a5d6': 'DB Ravi Teja',\n",
       " 'dded65e7': 'IR Jaggi',\n",
       " '5b627626': 'B Aparajith',\n",
       " '94253925': 'GH Vihari',\n",
       " 'b2b23612': 'RG More',\n",
       " '053de19b': 'RR Jadeja',\n",
       " 'acee4cc4': 'Imran Tahir',\n",
       " 'bd54eef5': 'N Jagadeesan',\n",
       " '2f3817ce': 'TP Sudhindra',\n",
       " 'bf6c251d': 'AS Pathania',\n",
       " 'fb693839': 'S Ladda',\n",
       " '4c4fa80b': 'SMSM Senanayake',\n",
       " 'a2f46292': 'KK Ahmed',\n",
       " '9418198b': 'P Simran Singh',\n",
       " 'af7dadf7': 'B Akhil',\n",
       " '881a9bdd': 'S Chanderpaul',\n",
       " '670709ec': 'SB Joshi',\n",
       " 'bc71b0b2': 'SJ Davis',\n",
       " '350528bb': 'SN Bandekar',\n",
       " '291ded7c': 'HAS Khalid',\n",
       " '650d5e49': 'R Powell',\n",
       " '0a509d6b': 'RK Singh',\n",
       " 'a24be938': 'VR Iyer',\n",
       " '4165ced0': 'AL Hill',\n",
       " 'd3a3e82d': 'AB Barath',\n",
       " '7bb62642': 'Anirudh Singh',\n",
       " 'd7b3a420': 'Jaskaran Singh',\n",
       " 'ef5da05c': 'AG Murtaza',\n",
       " 'cca50cd6': 'LJ Wright',\n",
       " 'd68e7f48': 'R Rampaul',\n",
       " '39086549': 'JR Philippe',\n",
       " 'a1d053dd': 'SS Cottrell',\n",
       " 'f708a0bc': 'GB Hogg',\n",
       " 'af2c687b': 'C Munro',\n",
       " 'e342e5fb': 'CR Brathwaite',\n",
       " '012829ff': 'JW Hastings',\n",
       " '9ab63e7b': 'Mohammad Hafeez',\n",
       " 'c8f5f961': 'Anuj Rawat',\n",
       " '8b680f55': 'Chirra Ravikanthreddy',\n",
       " '9385de2e': 'SS Prabhudessai',\n",
       " '66cf56a5': 'A Mithun',\n",
       " 'd92e42f5': 'KP Appanna',\n",
       " 'e03b66ec': 'Mohammad Asif',\n",
       " '64d43928': 'Sohail Tanvir',\n",
       " '93a17209': 'VY Mahesh',\n",
       " '14b14cd8': 'DM Bravo',\n",
       " 'b970a03f': 'M Klinger',\n",
       " '14f96089': 'A Zampa',\n",
       " 'ac5ae4af': 'I Udana',\n",
       " 'f752db61': 'JL Pattinson',\n",
       " 'd4eef961': 'M de Lange',\n",
       " 'e4cdf230': 'AS Roy',\n",
       " '68c56d09': 'KA Jamieson',\n",
       " '44a89551': 'KS Bharat',\n",
       " 'b274dbbd': 'ER Dwivedi',\n",
       " '0f721006': 'JO Holder',\n",
       " 'de4b0555': 'R Shukla',\n",
       " 'e86754b2': 'TK Curran',\n",
       " '3fca55af': 'S Sohal',\n",
       " 'e4a0deae': 'MJ Santner',\n",
       " 'c1cd91c3': 'IL Howell',\n",
       " '4d6d6280': 'Salman Butt',\n",
       " '75de770f': 'T Taibu',\n",
       " '16dfcc19': 'Umar Gul',\n",
       " '7023d182': 'AN Ghosh',\n",
       " 'e22d7ccb': 'Yashpal Sharma',\n",
       " '2cdce1be': 'C Sakariya',\n",
       " '1ee08e9a': 'JA Richardson',\n",
       " '331ea488': 'UT Khawaja',\n",
       " '1be70c88': 'LPC Silva',\n",
       " 'c8ec02e1': 'S Chaturvedi',\n",
       " '26d76ad9': 'Virat Singh',\n",
       " 'a316d663': 'GC Viljoen',\n",
       " '4933f499': 'JP Behrendorff',\n",
       " '9601c534': 'SD Lad',\n",
       " '1da489ff': 'S Kaushik',\n",
       " '92aeac25': 'AD Hales',\n",
       " '0a67aec0': 'Akash Deep',\n",
       " '6c882e9a': 'PBB Rajapaksa',\n",
       " 'ba6b2f91': 'RA Bawa',\n",
       " '4663bd23': 'TL Seifert',\n",
       " 'e412cb64': 'HF Gurney',\n",
       " 'fef92afc': 'SC Kuggeleijn',\n",
       " '1a156c88': 'DJM Short',\n",
       " '235c2bb6': 'H Klaasen',\n",
       " '641ac5ff': 'IS Sodhi',\n",
       " 'd83d7796': 'MW Brown',\n",
       " '6b725ed1': 'SD Fry',\n",
       " '890de8cb': 'Gagandeep Singh',\n",
       " '85143097': 'I Shivram',\n",
       " '50a7e89b': 'MS Mahal',\n",
       " '8e514b4c': 'Abdul Samad',\n",
       " 'e32d22f6': 'Pankaj Singh',\n",
       " '8048c698': 'MSS Ranawat',\n",
       " 'a2870fb7': 'NK Patel',\n",
       " 'a9dfdf6c': 'IJ Gould',\n",
       " 'c6097d68': 'O Thomas',\n",
       " 'cfa4bd2b': 'Y Prithvi Raj',\n",
       " '8d92a2c3': 'MA Wood',\n",
       " '410e2f12': 'RB Richardson',\n",
       " 'd2d4bb0a': 'TR Birt',\n",
       " 'd1c36f5c': 'JJ Roy',\n",
       " 'dbc50253': 'AP Dole',\n",
       " 'e236db6b': 'VM Bandiwadekar',\n",
       " 'f18ba07f': 'Ankit Soni',\n",
       " '20a941bb': 'M Ntini',\n",
       " '3dba85c2': 'WA Mota',\n",
       " '260fd380': 'AM Salvi',\n",
       " '943fd425': 'I Malhotra',\n",
       " 'addbde6c': 'N Saini',\n",
       " '30a2649b': 'CM Gautam',\n",
       " 'b52ffbbd': 'FA Allen',\n",
       " '0264c10e': 'D Salunkhe',\n",
       " '3a02626a': 'AG Paunikar',\n",
       " '99b202b3': 'A Chandila',\n",
       " '531f0278': 'K Santokie',\n",
       " 'cdc6bdba': 'S Sandeep Warrier',\n",
       " 'be24ead0': 'Ramandeep Singh',\n",
       " 'a3357a27': 'Vinod Seshan',\n",
       " '50758325': 'B Geeves',\n",
       " '53fe6ee4': 'DS Lehmann',\n",
       " '6042bf26': 'NJ Rimmington',\n",
       " '470050ff': 'B Vij',\n",
       " '2728e7e9': 'P Dogra',\n",
       " '1763bc6c': 'X Thalaivan Sargunam',\n",
       " '7ea3e0cc': 'Amit Sharma',\n",
       " 'd1c94b25': 'CK Langeveldt',\n",
       " '342d8ade': 'CRD Fernando',\n",
       " '27af6414': 'BJ Rohrer',\n",
       " '2c76b512': 'DJ Muthuswami',\n",
       " 'cf73ad76': 'JEC Franklin',\n",
       " 'd2340a43': 'Anand Rajan',\n",
       " '605b7efa': 'MC Juneja',\n",
       " '2461eef2': 'PA Reddy',\n",
       " 'e66066be': 'Subroto Das',\n",
       " '3ae3f034': 'AUK Pathan',\n",
       " 'b0c772ee': 'BJ Haddin',\n",
       " 'c64c2443': 'J Syed Mohammad',\n",
       " 'df5a6881': 'DP Conway',\n",
       " 'f24c6701': 'M Theekshana',\n",
       " '60500956': 'RV Patel',\n",
       " '30df8c66': 'Simarjeet Singh',\n",
       " '9170ff49': 'Parvez Rasool',\n",
       " '27e71d47': 'K Upadhyay',\n",
       " '91b9300b': 'UA Birla',\n",
       " '1cb14aa4': 'CJ Dala',\n",
       " '983f2f61': 'Swapnil Singh',\n",
       " 'be869ccf': 'GHS Garton',\n",
       " '1a2676c5': 'SA Abbott',\n",
       " '82f0b62e': 'R Shankar',\n",
       " '4f629497': 'SE Bond',\n",
       " 'ff077124': 'Kamran Akmal',\n",
       " '33cb3411': 'Younis Khan',\n",
       " '9868bc75': 'BMAJ Mendis',\n",
       " '9a963804': 'LE Plunkett',\n",
       " '8ac93ca2': 'P Chopra',\n",
       " 'a76d10ba': 'TM Srivastava',\n",
       " 'f4cb4f53': 'AP Majumdar',\n",
       " '545cc6db': 'ZTA Ndamane',\n",
       " 'a03bba42': 'T Shamsi',\n",
       " '21ac077a': 'RR Bose',\n",
       " '5748e866': 'TD Paine',\n",
       " '469ea22b': 'KMDN Kulasekara',\n",
       " 'c33d8116': 'Mohsin Khan',\n",
       " 'b56dc5f7': 'BE Hendricks',\n",
       " 'ff1e68fa': 'B Indrajith',\n",
       " 'b35f3ac8': 'DS Manohar',\n",
       " '77b1aa15': 'Harshit Rana',\n",
       " '888e32bf': 'Abdur Razzak',\n",
       " 'f48cf4da': 'DT Patil',\n",
       " 'f663ef00': 'J Arunkumar',\n",
       " 'fdedb37c': 'SM Katich',\n",
       " '864c199e': 'AC Voges',\n",
       " '661b0266': 'K Sharma',\n",
       " 'facb9086': 'SD Chitnis',\n",
       " '16605a1b': 'AA Kazi',\n",
       " 'fdcb08c2': 'A Uniyal',\n",
       " 'eaa90ab4': 'P Dharmani',\n",
       " '26ff4c29': 'RJ Peterson',\n",
       " '8b9704ae': 'L Ablish',\n",
       " '1efb8a28': 'AC Blizzard',\n",
       " 'f24ca2ba': 'C Nanda',\n",
       " '6d9e5a54': 'S George',\n",
       " 'b2ef796b': 'UL Dubey',\n",
       " '272d796e': 'BR Dunk',\n",
       " '6834d1f2': 'B Stanlake',\n",
       " '710dd98c': 'MN van Wyk',\n",
       " 'f5f18a18': 'S Randiv',\n",
       " 'e0351c86': 'DNT Zoysa',\n",
       " '0ed0cdbf': 'H Das',\n",
       " 'fa2f1dde': 'K Khejroliya',\n",
       " '489fb760': 'Premdip Chatterjee',\n",
       " '94bc776b': 'D Kalyankrishna',\n",
       " '36d33dd0': 'RR Sarwan',\n",
       " 'ed5a5510': 'P Dubey',\n",
       " '2503e881': 'A Nel',\n",
       " 'f21043a5': 'MDKJ Perera',\n",
       " '6dbcf855': 'VH Zol',\n",
       " '16043342': 'AB McDonald',\n",
       " '62e07f92': 'KH Devdhar',\n",
       " 'b63e358a': 'RK Bhui',\n",
       " '798cc28e': 'KM Asif',\n",
       " '0494fa6e': 'Vishnu Vinod',\n",
       " '9a46c4e5': 'GD Phillips',\n",
       " '030f3089': 'K Yadav',\n",
       " 'd167edd3': 'SM Boland',\n",
       " '0af3426f': 'SS Mundhe',\n",
       " '7d3720ba': 'RR Bhatkal',\n",
       " '78eb4223': 'KAJ Roach',\n",
       " 'c28e9f12': 'Tejas Baroka',\n",
       " '33ffc3dd': 'R Sanjay Yadav',\n",
       " '85b3fab2': 'T Stubbs',\n",
       " '6165bca6': 'A Mukund',\n",
       " 'd5130a30': 'B Sai Sudharsan',\n",
       " 'ddc0828d': 'A Flintoff',\n",
       " 'b2ae53f5': 'T Thushara',\n",
       " '6821ac10': 'JJ van der Wath',\n",
       " 'ce4cc4d5': 'R Ninan',\n",
       " 'abde8fb9': 'S Banerjee',\n",
       " '10a91f35': 'Shoaib Akhtar',\n",
       " 'ada15e88': 'PSP Handscomb',\n",
       " 'b483905d': 'Akash Singh',\n",
       " '0b126008': 'VN Kulkarni',\n",
       " 'ee3dfa89': 'Sunny Gupta',\n",
       " '25f7b7d6': 'T Banton',\n",
       " '6f49cc6e': 'Shivam Sharma',\n",
       " '8647d51d': 'VD Nerurkar',\n",
       " 'cd8d2859': 'DG Nalkande',\n",
       " 'b69e69ed': 'AA Noffke',\n",
       " '64839cb3': 'M Pathirana',\n",
       " 'c695b423': 'PH Solanki',\n",
       " 'caa89a48': 'SS Sarkar',\n",
       " '5f5d3ad4': 'SS Shaikh',\n",
       " '0a4ebc61': 'T Henderson',\n",
       " 'dce2019b': 'F Behardien',\n",
       " '69d03465': 'AT Carey',\n",
       " '350a07a7': 'SK Porel',\n",
       " '9ff100a6': 'RS Gavaskar',\n",
       " '2eeb4370': 'C Madan',\n",
       " '9948e262': 'HE van der Dussen',\n",
       " 'ad9c32a2': 'DJ Malan',\n",
       " '798934ea': 'C Ganapathy',\n",
       " '441c72ae': 'P Ray Barman',\n",
       " 'aa5d8c9e': 'A Tomar',\n",
       " '64a4c383': 'S Sriram',\n",
       " 'd7a57f75': 'D du Preez',\n",
       " '4e11e004': 'AK Mitra',\n",
       " '4d5a1617': 'R Bishnoi',\n",
       " '58b66172': 'HS Sekhon',\n",
       " '5b16a806': 'A Dananjaya',\n",
       " '249abedf': 'Jalaj S Saxena',\n",
       " 'd3611425': 'LI Meriwala',\n",
       " 'e186f49c': 'Mashrafe Mortaza',\n",
       " '67af6f81': 'RW Price',\n",
       " 'b4296080': 'Milind Kumar',\n",
       " 'bdadf7da': 'JL Denly',\n",
       " '86ae8ef2': 'MB Parmar',\n",
       " '611926bc': 'GR Napier',\n",
       " '4b4d1957': 'PM Sarvesh Kumar',\n",
       " '2bb09eb2': 'Mohammad Ashraful',\n",
       " '7c390b03': 'RA Shaikh',\n",
       " '6043dfe7': 'Jasbir Singh',\n",
       " '5708d0b6': 'AV Wankhade',\n",
       " '0bf15e52': 'Harmeet Singh',\n",
       " 'afe3355a': 'AR Bawne',\n",
       " '378daa89': 'Aman Hakim Khan',\n",
       " '69762509': 'DR Martyn',\n",
       " '0164b064': 'MG Neser',\n",
       " '3134d083': 'F Gomes',\n",
       " 'fb24e76c': 'Monu Kumar',\n",
       " '5d58ac60': 'MR Singh',\n",
       " '2e9fdf9b': 'DAJ Bracewell',\n",
       " '249d60c9': 'AU Rashid',\n",
       " 'fdf7491e': 'IC Porel',\n",
       " 'c9d33ef5': 'RV Pawar',\n",
       " 'c9cac448': 'T Mishra',\n",
       " '39ed0d2f': 'KS Sharma',\n",
       " 'ade90de7': 'S Midhun',\n",
       " '634b11ac': 'A Paleker',\n",
       " 'f86ce673': 'AC Douglas',\n",
       " 'e9a870ed': 'AC Evans',\n",
       " 'e0e5b209': 'Ahsan Raza',\n",
       " '448f4f1c': 'CM Brown',\n",
       " '9c376401': 'CS MacLeod',\n",
       " '7f6c2dae': 'DC Stovell',\n",
       " 'f1eb3c73': 'DMW Rawlins',\n",
       " '7bbeac6d': \"GH O'Brien\",\n",
       " 'ba8d5615': 'GS Lakshmi',\n",
       " 'ff014c34': 'HG Munsey',\n",
       " '34cb2f69': 'Hamza Tahir',\n",
       " '85d8110a': 'KJ Coetzer',\n",
       " 'e1592949': 'KS Leverock',\n",
       " '8b261d84': 'MH Cross',\n",
       " '1252f71a': 'MRJ Watt',\n",
       " '3cc58287': 'O Bascome',\n",
       " '94a1827c': 'OGL Bascome',\n",
       " 'c8a7b014': 'OJ Hairs',\n",
       " '9a137157': 'OO Bascome',\n",
       " 'e21bc7f3': 'RD Berrington',\n",
       " '52f96571': 'RJ Trott',\n",
       " '18a0ba24': 'S Smith',\n",
       " 'f43dd8c2': 'SM Sharif',\n",
       " '98e908bd': 'TB Sole',\n",
       " 'c7537f8a': 'TS Fray',\n",
       " 'f336ff13': 'A Mehrotra',\n",
       " '7673c908': 'AC Kerr',\n",
       " 'b05e45e4': 'AE Jones',\n",
       " '72b7ed1e': 'AE Satterthwaite',\n",
       " 'efb6cb2a': 'BM Halliday',\n",
       " 'a139c379': 'DN Wyatt',\n",
       " '2479daa6': 'FR Davies',\n",
       " '4ba0289e': 'HC Knight',\n",
       " 'b8cce99f': 'HNK Jensen',\n",
       " '153c9f33': 'JM Dempsey',\n",
       " '9af58032': 'JM Kerr',\n",
       " '6a434bd3': 'KH Brunt',\n",
       " 'cf75a839': 'KJ Martin',\n",
       " '67a7c2ee': 'Kim Cotton',\n",
       " '9b73d523': 'LM Kasperek',\n",
       " 'cd62f670': 'MK Villiers',\n",
       " '865eae1f': 'ML Green',\n",
       " 'f3a18a0c': 'NR Sciver',\n",
       " 'fd92a10c': 'PJ Pasco',\n",
       " 'd5eb8b84': 'RA Mair',\n",
       " 'cdb82f1c': 'S Ecclestone',\n",
       " 'b34e0c77': 'S Glenn',\n",
       " 'de69af96': 'SFM Devine',\n",
       " '3a9e9cb2': 'SIR Dunkley',\n",
       " '93fe473e': 'TMM Newton',\n",
       " 'b2664905': 'TT Beaumont',\n",
       " 'ac56b5a7': 'AC Jayangani',\n",
       " 'b9164a9b': 'AJ Blackwell',\n",
       " '321644de': 'AJ Healy',\n",
       " '52d1dbc8': 'BL Mooney',\n",
       " 'b55fb828': 'BMSM Kumari',\n",
       " 'a9fabff4': 'BYA Mendis',\n",
       " 'fe731c62': 'EA Osborne',\n",
       " 'be150fc8': 'EA Perry',\n",
       " 'cde96d97': 'EJ Villani',\n",
       " 'a61850e6': 'I Ranaweera',\n",
       " '0475a86b': 'JL Jonassen',\n",
       " 'a0fdf513': 'KDU Prabodhani',\n",
       " 'fa8f9dc3': 'KM Beams',\n",
       " '8b552293': 'LE Kaushalya',\n",
       " '318a4039': 'MAA Sanjeewani',\n",
       " '3f440bd6': 'MADD Surangika',\n",
       " 'dfc89c58': 'MDN Hansika',\n",
       " '17608a6f': 'ML Schutt',\n",
       " '27e003ce': 'MM Lanning',\n",
       " '52d3b7ff': 'OU Ranasinghe',\n",
       " '1b3718d2': 'PM Weerakkody',\n",
       " '4ed7d23f': 'RM Farrell',\n",
       " '4339c19d': 'RSA Palliyaguruge',\n",
       " 'a138f597': 'Ali Masood',\n",
       " '126c3f6f': 'Ashish Rana',\n",
       " '74e3b4fd': 'BLCS Kumara',\n",
       " '2cf2fc9e': 'CPPM Sadun',\n",
       " '49235be5': 'Gurpratap Singh',\n",
       " '5152ab02': 'Habib Khan',\n",
       " '04855b85': 'K Vislapuu',\n",
       " '9818cc88': 'M Kyriacou',\n",
       " '5335c5a7': 'M Vaik',\n",
       " '88228580': 'MMR Obili',\n",
       " '6969d364': 'Maidul Islam',\n",
       " 'f059910f': 'Moshiur Rahman',\n",
       " '97f44626': 'NK Tiwari',\n",
       " '3852600a': 'Qasim Anwar',\n",
       " 'b23d3ec5': 'R Mazumder',\n",
       " 'eba871dd': 'S Hook',\n",
       " 'f4000a7d': 'SN Pathirana',\n",
       " '12678cc7': 'T Cross',\n",
       " '52dfe157': 'T Filer',\n",
       " 'ad37baac': 'Tejwinder Singh',\n",
       " '55a73018': 'Waqar Ali',\n",
       " 'af8d9fd9': 'Yasir Mehmood',\n",
       " '94b5ec3b': 'Adriaan van den Dries',\n",
       " 'd0d32c30': 'Amandeep Singh',\n",
       " '973006cc': 'Amir Zaib',\n",
       " '7fcc57bf': 'Atif Mehmood',\n",
       " 'f9f857dc': 'Awais Ahmed',\n",
       " '17bc032c': 'C Munoz-Mills',\n",
       " '3ed4e2ad': 'C Rumistrzewicz',\n",
       " '74be2916': 'D Doyle-Calle',\n",
       " '69e53eb3': 'F Stoman',\n",
       " '557550a4': 'Hamza Dar',\n",
       " 'a0a32dd1': 'Imran Khan',\n",
       " '788d661c': 'J Trembeath-Moro',\n",
       " 'f7ad4494': 'Jonathan Kennedy',\n",
       " 'be0077ba': 'Junaid Khan',\n",
       " '61c48027': 'Kuldeep',\n",
       " '5b616bf0': 'LA Burns',\n",
       " '1a628a92': 'Mohammad Kamran',\n",
       " '58aa33cd': 'Najjam Shahzad',\n",
       " '99d5f6fa': 'Phil Whitticase',\n",
       " '7ee25c46': 'Raja Adeel',\n",
       " '30acd4b7': 'SP Gomes',\n",
       " 'ff36e706': 'Sirajullah Khadim',\n",
       " 'e204b898': 'Syed Maisam Ali',\n",
       " '452837d1': 'Vinay Malhotra',\n",
       " '79209272': 'Yasir Ali',\n",
       " 'bd3cecc6': 'Zohaib Sarwar',\n",
       " 'a1e80d06': 'A Shukla',\n",
       " '0e34c23a': 'Adnan Idrees',\n",
       " 'f6c2659d': 'Aizaz Khan',\n",
       " '04ed04d2': 'Ali Zaheer',\n",
       " '8603d942': 'BB Pradhan',\n",
       " 'fbb657bb': 'Babar Hayat',\n",
       " '3cf06094': 'Bilal Tahir',\n",
       " 'c1b74851': 'ED Silva',\n",
       " 'd3851cd8': 'Ehsan Khan',\n",
       " 'ed918c90': 'Harikrishna Pillai',\n",
       " 'be0f9ce9': 'Haroon Arshad',\n",
       " 'd5ae21a2': 'KD Shah',\n",
       " '20481563': 'MNM Aslam',\n",
       " 'b25a3800': 'Meet Bhavsar',\n",
       " 'ff13b10c': 'Mohamed Shafeeq',\n",
       " '00321fff': 'Mohammad Ghazanfar',\n",
       " 'e3eb9e46': 'Nizakat Khan',\n",
       " 'cf6acc0d': 'R Sandaruwan',\n",
       " '4956b0bf': 'Rahul Asher',\n",
       " 'e6dd77bb': 'SS McKechnie',\n",
       " '8ff397fa': 'Sarika Prasad',\n",
       " 'b9cfb0b1': 'Sayed Monib',\n",
       " '1e2f3eae': 'Shiju Sam',\n",
       " 'f310704c': 'Shiraz Khan',\n",
       " '415c6ccf': 'Usman Patel',\n",
       " 'c9d05f1a': 'Yasim Murtaza',\n",
       " 'ecdd8d60': 'Yasin Patel',\n",
       " '987187b9': 'Zeeshan Ali',\n",
       " 'd8e79af0': 'AC Botha',\n",
       " 'ad7945c6': 'AG Hurst',\n",
       " '568e5a4a': 'AR Cusack',\n",
       " 'f27f89e8': 'AR White',\n",
       " 'e01895bb': 'DT Johnston',\n",
       " 'dc63f509': 'EAR de Silva',\n",
       " 'a9520ac2': 'J Mubarak',\n",
       " 'aae9ce90': 'JF Mooney',\n",
       " '243431b5': \"KJ O'Brien\",\n",
       " '84826f48': \"NJ O'Brien\",\n",
       " 'd1761087': 'RM West',\n",
       " '29b89ae8': 'WB Rankin',\n",
       " 'c942a53b': 'WK McCallan',\n",
       " 'ec02b798': 'WTS Porterfield',\n",
       " '8a9e3cd0': 'C Forbes',\n",
       " '904288fe': 'C Thorburn',\n",
       " '85645e62': 'Claus Schumacher',\n",
       " '895ae8b6': 'D Kalvin',\n",
       " '29663fda': 'HL Harji',\n",
       " '0ee3bb49': 'Itangishaka Olivier',\n",
       " '53419aff': 'J Ghadiyali',\n",
       " 'c5981c9c': 'JJ Wright',\n",
       " '0371cc19': 'K Govind',\n",
       " 'd6b4e3e2': 'KJ Patel',\n",
       " '59e99272': 'L Zulu',\n",
       " '1a8cedc8': 'M Jele',\n",
       " '30564b3e': 'Mazharul Islam',\n",
       " 'ce9ce42f': 'Muhammad Amin',\n",
       " 'c62a0327': 'N Krishna',\n",
       " '3a54c25b': 'N Magagula',\n",
       " '4c49c917': 'Naeem Gull',\n",
       " '20b559ab': 'P Byron',\n",
       " 'd0178c53': 'S Kubheka',\n",
       " 'a8d6305d': 'S Udhayan',\n",
       " 'd15e60c8': 'SA Fritz',\n",
       " '95c2d309': 'SKDT Madusanka',\n",
       " '58533699': 'SR Mohan',\n",
       " 'ee3bfb9b': 'SR Rocket',\n",
       " '101373a3': 'Shehzad Patel',\n",
       " '1ab8beda': 'T Rajiv',\n",
       " 'e086735b': 'Umair Qasim',\n",
       " '02d11602': 'AA Banner',\n",
       " '93f72fdc': 'AK Muslar',\n",
       " '5c861579': 'AR Maddela',\n",
       " '17aa4f1d': 'Aaron Jones',\n",
       " 'db571b24': 'BS Stephenson',\n",
       " 'd504bc4c': 'C Brown',\n",
       " '5cbeeb02': 'Denavon Hayles',\n",
       " 'e93b6c95': 'G Singh',\n",
       " 'aeb893b4': 'GG Banner',\n",
       " 'ac1ddea1': 'Garret Banner',\n",
       " '4167f30b': 'IG Holland',\n",
       " '9633359f': 'JS Malhotra',\n",
       " 'a6bab2a9': 'K Gore',\n",
       " '8bba9ec2': 'KJ Young',\n",
       " '55fedd51': 'KK Tillett',\n",
       " '5dee559a': 'LS Reifer',\n",
       " '25d7f1ac': 'MD Patel',\n",
       " '9853b404': 'ML Castillo',\n",
       " 'c6e10e5c': 'NK Patel',\n",
       " 'c8a3f688': 'SN Netravalkar',\n",
       " 'a9231c3f': 'SR Taylor',\n",
       " '82340b9d': 'TJ Stephenson',\n",
       " 'df3438ae': 'TW Samuels',\n",
       " '85b6244a': 'Vijaya Mallela',\n",
       " 'ffb504b1': 'XM Marshall',\n",
       " ...}"
      ]
     },
     "execution_count": 28,
     "metadata": {},
     "output_type": "execute_result"
    }
   ],
   "source": [
    "player_dict"
   ]
  },
  {
   "cell_type": "code",
   "execution_count": 47,
   "metadata": {},
   "outputs": [],
   "source": [
    "artifact = wandb.Artifact(name='player_stats', type='ball_by_ball_prediction')"
   ]
  },
  {
   "cell_type": "code",
   "execution_count": 32,
   "metadata": {},
   "outputs": [],
   "source": [
    "batter_stats = get_stats(clean_data, \"2023-03-14\", \"striker\")\n",
    "batter_stats = batter_stats.applymap(lambda x: player_dict.get(x, x))"
   ]
  },
  {
   "cell_type": "code",
   "execution_count": 33,
   "metadata": {},
   "outputs": [],
   "source": [
    "bowler_stats = get_stats(clean_data, \"2023-03-14\", \"bowler\")\n",
    "bowler_stats = batter_stats.applymap(lambda x: player_dict.get(x, x))"
   ]
  },
  {
   "cell_type": "code",
   "execution_count": 48,
   "metadata": {},
   "outputs": [],
   "source": [
    "bat_stats = wandb.Table(dataframe=batter_stats)\n",
    "bowl_stats = wandb.Table(dataframe=bowler_stats)"
   ]
  },
  {
   "cell_type": "code",
   "execution_count": 49,
   "metadata": {},
   "outputs": [
    {
     "data": {
      "text/plain": [
       "ArtifactManifestEntry(path='bowl_stats.table.json', digest='iOsEboVTawBkGfVGxxMwSA==', ref=None, birth_artifact_id=None, size=181311, extra={}, local_path='/Users/sparshgupta/Library/Application Support/wandb/artifacts/staging/tmpv6rl_ga_')"
      ]
     },
     "execution_count": 49,
     "metadata": {},
     "output_type": "execute_result"
    }
   ],
   "source": [
    "artifact.add(bat_stats, \"bat_stats\")\n",
    "artifact.add(bowl_stats, \"bowl_stats\")"
   ]
  },
  {
   "cell_type": "code",
   "execution_count": 50,
   "metadata": {},
   "outputs": [
    {
     "data": {
      "text/html": [
       "Waiting for W&B process to finish... <strong style=\"color:green\">(success).</strong>"
      ],
      "text/plain": [
       "<IPython.core.display.HTML object>"
      ]
     },
     "metadata": {},
     "output_type": "display_data"
    },
    {
     "data": {
      "text/html": [
       " View run <strong style=\"color:#cdcd00\">mild-fire-6</strong> at: <a href=\"https://wandb.ai/gsparsh/Dream11/runs/muoj0dv6\" target=\"_blank\">https://wandb.ai/gsparsh/Dream11/runs/muoj0dv6</a><br/>Synced 5 W&B file(s), 0 media file(s), 2 artifact file(s) and 0 other file(s)"
      ],
      "text/plain": [
       "<IPython.core.display.HTML object>"
      ]
     },
     "metadata": {},
     "output_type": "display_data"
    },
    {
     "data": {
      "text/html": [
       "Find logs at: <code>./wandb/run-20230329_204916-muoj0dv6/logs</code>"
      ],
      "text/plain": [
       "<IPython.core.display.HTML object>"
      ]
     },
     "metadata": {},
     "output_type": "display_data"
    }
   ],
   "source": [
    "run.log_artifact(artifact)\n",
    "run.finish()"
   ]
  },
  {
   "cell_type": "code",
   "execution_count": 55,
   "metadata": {},
   "outputs": [
    {
     "data": {
      "text/html": [
       "Waiting for W&B process to finish... <strong style=\"color:green\">(success).</strong>"
      ],
      "text/plain": [
       "<IPython.core.display.HTML object>"
      ]
     },
     "metadata": {},
     "output_type": "display_data"
    },
    {
     "data": {
      "text/html": [
       " View run <strong style=\"color:#cdcd00\">radiant-bush-8</strong> at: <a href=\"https://wandb.ai/gsparsh/Dream11/runs/op3b48bn\" target=\"_blank\">https://wandb.ai/gsparsh/Dream11/runs/op3b48bn</a><br/>Synced 5 W&B file(s), 0 media file(s), 2 artifact file(s) and 0 other file(s)"
      ],
      "text/plain": [
       "<IPython.core.display.HTML object>"
      ]
     },
     "metadata": {},
     "output_type": "display_data"
    },
    {
     "data": {
      "text/html": [
       "Find logs at: <code>./wandb/run-20230329_205124-op3b48bn/logs</code>"
      ],
      "text/plain": [
       "<IPython.core.display.HTML object>"
      ]
     },
     "metadata": {},
     "output_type": "display_data"
    }
   ],
   "source": [
    "wandb.log_artifact(path+'train.csv', name='train_split_2016to2022', type='ball_by_ball_prediction')\n",
    "wandb.log_artifact(path+'test.csv', name='test_split_2022on', type='ball_by_ball_prediction')\n",
    "run.finish()"
   ]
  },
  {
   "cell_type": "code",
   "execution_count": 12,
   "metadata": {},
   "outputs": [
    {
     "name": "stdout",
     "output_type": "stream",
     "text": [
      "CPU times: user 1 µs, sys: 0 ns, total: 1 µs\n",
      "Wall time: 1.91 µs\n"
     ]
    }
   ],
   "source": [
    "# train, test = make_features(clean_data)"
   ]
  },
  {
   "cell_type": "code",
   "execution_count": 13,
   "metadata": {},
   "outputs": [],
   "source": [
    "# train.to_csv('../Inputs/train.csv', index=False)\n",
    "# test.to_csv('../Inputs/test.csv', index=False)"
   ]
  },
  {
   "cell_type": "code",
   "execution_count": 6,
   "metadata": {},
   "outputs": [],
   "source": [
    "clean_data['match_id'] = clean_data.index.str.split('_').str[0]"
   ]
  },
  {
   "cell_type": "code",
   "execution_count": 7,
   "metadata": {},
   "outputs": [],
   "source": [
    "clean_data.sort_values(by=['start_date', 'innings', 'overs', 'balls'], inplace=True)\n",
    "# matchid = clean_data.loc[0, 'match_id']"
   ]
  },
  {
   "cell_type": "code",
   "execution_count": 8,
   "metadata": {},
   "outputs": [],
   "source": [
    "#if innings == 1, over = 1, ball = 1, then it is the start of the innings, add a column for the score at the start of the innings\n",
    "clean_data['current_score_cumsum'] = clean_data.groupby(['match_id', 'innings'])['runs_off_bat'].cumsum()\n",
    "clean_data['current_score'] = clean_data.groupby(['match_id', 'innings'])['current_score_cumsum'].shift(1).fillna(0).astype(int)\n",
    "clean_data['wicket_type'] = clean_data['player_dismissed'].apply(lambda x: 1 if isinstance(x,str) else 0)\n",
    "clean_data['wickets_cumsum'] = (10-clean_data.groupby(['match_id', 'innings'])['wicket_type'].cumsum())\n",
    "clean_data['wickets_remaining'] = clean_data.groupby(['match_id', 'innings'])['wickets_cumsum'].shift(1).fillna(10).astype(int)\n",
    "clean_data.drop('wickets_cumsum', axis=1, inplace=True)\n"
   ]
  },
  {
   "cell_type": "code",
   "execution_count": 28,
   "metadata": {},
   "outputs": [
    {
     "data": {
      "text/plain": [
       "Index(['venue', 'innings', 'batting_team', 'bowling_team', 'striker',\n",
       "       'non_striker', 'bowler', 'overs', 'balls', 'bat_0_runs', 'bat_1_runs',\n",
       "       'bat_2_runs', 'bat_3_runs', 'bat_4_runs', 'bat_6_runs',\n",
       "       'bat_num_dismissals', 'bat_wides', 'bat_total_balls', 'bowl_0_runs',\n",
       "       'bowl_1_runs', 'bowl_2_runs', 'bowl_3_runs', 'bowl_4_runs',\n",
       "       'bowl_6_runs', 'bowl_num_dismissals', 'bowl_wides', 'bowl_total_balls',\n",
       "       'target'],\n",
       "      dtype='object')"
      ]
     },
     "execution_count": 28,
     "metadata": {},
     "output_type": "execute_result"
    }
   ],
   "source": [
    "train.columns"
   ]
  },
  {
   "cell_type": "code",
   "execution_count": 1,
   "metadata": {},
   "outputs": [],
   "source": [
    "# pd.concat([train, train_feats], ignore_index=True, axis=1)"
   ]
  },
  {
   "cell_type": "code",
   "execution_count": 25,
   "metadata": {},
   "outputs": [],
   "source": [
    "train_feats = clean_data[['start_date','wickets_remaining', 'current_score']].query('\"2016-01-01\" <= start_date < \"2022-01-01\"')"
   ]
  },
  {
   "cell_type": "code",
   "execution_count": 15,
   "metadata": {},
   "outputs": [
    {
     "data": {
      "text/plain": [
       "delivery_id\n",
       "211048_1_12.6    168\n",
       "211048_1_13.1    168\n",
       "211048_1_13.2    168\n",
       "211048_1_13.3    168\n",
       "211048_1_13.4    168\n",
       "211048_1_13.5    168\n",
       "211048_1_13.6    168\n",
       "211048_1_14.1    168\n",
       "211048_1_14.2    168\n",
       "211048_1_14.3    168\n",
       "211048_1_14.4    168\n",
       "211048_1_14.5    168\n",
       "211048_1_14.6    168\n",
       "211048_1_15.1    168\n",
       "211048_1_15.2    168\n",
       "211048_1_15.3    168\n",
       "211048_1_15.4    168\n",
       "211048_1_15.5    168\n",
       "211048_1_15.6    168\n",
       "211048_1_16.1    168\n",
       "211048_1_16.2    168\n",
       "211048_1_16.3    168\n",
       "211048_1_16.4    168\n",
       "211048_1_16.5    168\n",
       "211048_1_16.6    168\n",
       "211048_1_17.1    168\n",
       "211048_1_17.2    168\n",
       "211048_1_17.3    168\n",
       "211048_1_17.4    168\n",
       "211048_1_17.5    168\n",
       "211048_1_17.6    168\n",
       "211048_1_18.1    168\n",
       "211048_1_18.2    168\n",
       "211048_1_18.3    168\n",
       "211048_1_18.4    168\n",
       "211048_1_18.5    168\n",
       "211048_1_18.6    168\n",
       "211048_1_19.1    168\n",
       "211048_1_19.2    168\n",
       "211048_1_19.3    168\n",
       "211048_1_19.4    168\n",
       "211048_1_19.5    168\n",
       "211048_1_19.6    168\n",
       "211048_2_0.1     168\n",
       "211048_2_0.2     168\n",
       "211048_2_0.3     168\n",
       "211048_2_0.4     168\n",
       "211048_2_0.5     168\n",
       "211048_2_0.6     168\n",
       "211048_2_1.1     168\n",
       "211048_2_1.2     168\n",
       "211048_2_1.3     168\n",
       "211048_2_1.4     168\n",
       "211048_2_1.5     168\n",
       "211048_2_1.6     168\n",
       "211048_2_2.1     168\n",
       "211048_2_2.2     168\n",
       "211048_2_2.3     168\n",
       "211048_2_2.4     168\n",
       "211048_2_2.5     168\n",
       "Name: current_score, dtype: int64"
      ]
     },
     "execution_count": 15,
     "metadata": {},
     "output_type": "execute_result"
    }
   ],
   "source": [
    "#create a feature called 1st innings score. This variable should be 0 if innings==1, otherwise it should be the final score of the first innings of the match\n",
    "clean_data.groupby(['match_id'])['current_score'].transform('last').iloc[80:140]"
   ]
  },
  {
   "cell_type": "code",
   "execution_count": 16,
   "metadata": {},
   "outputs": [],
   "source": [
    "clean_data['1st_innings_score'] = clean_data.groupby(['match_id'])['current_score'].shift(1).fillna(0).astype(int)"
   ]
  },
  {
   "cell_type": "code",
   "execution_count": 18,
   "metadata": {},
   "outputs": [
    {
     "data": {
      "text/plain": [
       "delivery_id\n",
       "211048_1_12.6    109\n",
       "211048_1_13.1    110\n",
       "211048_1_13.2    111\n",
       "211048_1_13.3    113\n",
       "211048_1_13.4    113\n",
       "211048_1_13.5    117\n",
       "211048_1_13.6    117\n",
       "211048_1_14.1    123\n",
       "211048_1_14.2    124\n",
       "211048_1_14.3    125\n",
       "211048_1_14.4    127\n",
       "211048_1_14.5    127\n",
       "211048_1_14.6    128\n",
       "211048_1_15.1    130\n",
       "211048_1_15.2    131\n",
       "211048_1_15.3    132\n",
       "211048_1_15.4    134\n",
       "211048_1_15.5    134\n",
       "211048_1_15.6    135\n",
       "211048_1_16.1    136\n",
       "211048_1_16.2    137\n",
       "211048_1_16.3    138\n",
       "211048_1_16.4    139\n",
       "211048_1_16.5    140\n",
       "211048_1_16.6    140\n",
       "211048_1_17.1    141\n",
       "211048_1_17.2    145\n",
       "211048_1_17.3    146\n",
       "211048_1_17.4    147\n",
       "211048_1_17.5    148\n",
       "211048_1_17.6    148\n",
       "211048_1_18.1    154\n",
       "211048_1_18.2    160\n",
       "211048_1_18.3    166\n",
       "211048_1_18.4    168\n",
       "211048_1_18.5    174\n",
       "211048_1_18.6    180\n",
       "211048_1_19.1    184\n",
       "211048_1_19.2    190\n",
       "211048_1_19.3    191\n",
       "211048_1_19.4    195\n",
       "211048_1_19.5    195\n",
       "211048_1_19.6    196\n",
       "211048_2_0.1     202\n",
       "211048_2_0.2       0\n",
       "211048_2_0.3       0\n",
       "211048_2_0.4       0\n",
       "211048_2_0.5       1\n",
       "211048_2_0.6       1\n",
       "211048_2_1.1       2\n",
       "211048_2_1.2       2\n",
       "211048_2_1.3       6\n",
       "211048_2_1.4       7\n",
       "211048_2_1.5       8\n",
       "211048_2_1.6      10\n",
       "211048_2_2.1      11\n",
       "211048_2_2.2      12\n",
       "211048_2_2.3      12\n",
       "211048_2_2.4      12\n",
       "211048_2_2.5      13\n",
       "Name: 1st_innings_score, dtype: int64"
      ]
     },
     "execution_count": 18,
     "metadata": {},
     "output_type": "execute_result"
    }
   ],
   "source": [
    "\"\"\"\n",
    "Create a featue called 'target_score', this variable should be 0 if innings=1, otherwise it should be the target score for the team batting second\n",
    "which is the 1st innings score + 1\n",
    "\"\"\"\n"
   ]
  },
  {
   "cell_type": "code",
   "execution_count": 20,
   "metadata": {},
   "outputs": [
    {
     "data": {
      "text/plain": [
       "delivery_id\n",
       "211048_1_12.6    167\n",
       "211048_1_13.1    167\n",
       "211048_1_13.2    167\n",
       "211048_1_13.3    167\n",
       "211048_1_13.4    167\n",
       "211048_1_13.5    167\n",
       "211048_1_13.6    167\n",
       "211048_1_14.1    167\n",
       "211048_1_14.2    167\n",
       "211048_1_14.3    167\n",
       "211048_1_14.4    167\n",
       "211048_1_14.5    167\n",
       "211048_1_14.6    167\n",
       "211048_1_15.1    167\n",
       "211048_1_15.2    167\n",
       "211048_1_15.3    167\n",
       "211048_1_15.4    167\n",
       "211048_1_15.5    167\n",
       "211048_1_15.6    167\n",
       "211048_1_16.1    167\n",
       "211048_1_16.2    167\n",
       "211048_1_16.3    167\n",
       "211048_1_16.4    167\n",
       "211048_1_16.5    167\n",
       "211048_1_16.6    167\n",
       "211048_1_17.1    167\n",
       "211048_1_17.2    167\n",
       "211048_1_17.3    167\n",
       "211048_1_17.4    167\n",
       "211048_1_17.5    167\n",
       "211048_1_17.6    167\n",
       "211048_1_18.1    167\n",
       "211048_1_18.2    167\n",
       "211048_1_18.3    167\n",
       "211048_1_18.4    167\n",
       "211048_1_18.5    167\n",
       "211048_1_18.6    167\n",
       "211048_1_19.1    167\n",
       "211048_1_19.2    167\n",
       "211048_1_19.3    167\n",
       "211048_1_19.4    167\n",
       "211048_1_19.5    167\n",
       "211048_1_19.6    167\n",
       "211048_2_0.1     167\n",
       "211048_2_0.2     167\n",
       "211048_2_0.3     167\n",
       "211048_2_0.4     167\n",
       "211048_2_0.5     167\n",
       "211048_2_0.6     167\n",
       "211048_2_1.1     167\n",
       "211048_2_1.2     167\n",
       "211048_2_1.3     167\n",
       "211048_2_1.4     167\n",
       "211048_2_1.5     167\n",
       "211048_2_1.6     167\n",
       "211048_2_2.1     167\n",
       "211048_2_2.2     167\n",
       "211048_2_2.3     167\n",
       "211048_2_2.4     167\n",
       "211048_2_2.5     167\n",
       "Name: 1st_innings_score, dtype: int64"
      ]
     },
     "execution_count": 20,
     "metadata": {},
     "output_type": "execute_result"
    }
   ],
   "source": [
    "clean_data.groupby(['match_id'])['1st_innings_score'].transform('last').shift(-1).fillna(0).astype(int).iloc[80:140]"
   ]
  },
  {
   "cell_type": "code",
   "execution_count": null,
   "metadata": {},
   "outputs": [],
   "source": []
  }
 ],
 "metadata": {
  "kernelspec": {
   "display_name": "Python 3",
   "language": "python",
   "name": "python3"
  },
  "language_info": {
   "codemirror_mode": {
    "name": "ipython",
    "version": 3
   },
   "file_extension": ".py",
   "mimetype": "text/x-python",
   "name": "python",
   "nbconvert_exporter": "python",
   "pygments_lexer": "ipython3",
   "version": "3.9.13"
  },
  "orig_nbformat": 4
 },
 "nbformat": 4,
 "nbformat_minor": 2
}
